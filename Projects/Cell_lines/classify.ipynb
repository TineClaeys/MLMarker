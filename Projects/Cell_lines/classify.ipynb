{
 "cells": [
  {
   "cell_type": "markdown",
   "metadata": {},
   "source": [
    "Data from: https://www.sciencedirect.com/science/article/pii/S1535610822002744#mmc3   \n",
    "Pan-cancer proteomic map of 949 human cell lines\n"
   ]
  },
  {
   "cell_type": "code",
   "execution_count": 1,
   "metadata": {},
   "outputs": [],
   "source": [
    "import mlmarker\n",
    "from mlmarker.model import MLMarker"
   ]
  },
  {
   "cell_type": "code",
   "execution_count": 2,
   "metadata": {},
   "outputs": [],
   "source": [
    "import pandas as pd\n",
    "import numpy as np\n",
    "import matplotlib.pyplot as plt\n",
    "import random\n",
    "import seaborn as sns\n",
    "import umap\n",
    "from sklearn.decomposition import PCA\n"
   ]
  },
  {
   "cell_type": "code",
   "execution_count": 3,
   "metadata": {},
   "outputs": [
    {
     "data": {
      "text/html": [
       "<div>\n",
       "<style scoped>\n",
       "    .dataframe tbody tr th:only-of-type {\n",
       "        vertical-align: middle;\n",
       "    }\n",
       "\n",
       "    .dataframe tbody tr th {\n",
       "        vertical-align: top;\n",
       "    }\n",
       "\n",
       "    .dataframe thead th {\n",
       "        text-align: right;\n",
       "    }\n",
       "</style>\n",
       "<table border=\"1\" class=\"dataframe\">\n",
       "  <thead>\n",
       "    <tr style=\"text-align: right;\">\n",
       "      <th>Project_Identifier</th>\n",
       "      <th>index</th>\n",
       "      <th>SIDM00018;K052</th>\n",
       "      <th>SIDM00023;TE-12</th>\n",
       "      <th>SIDM00040;TMK-1</th>\n",
       "      <th>SIDM00041;STS-0421</th>\n",
       "      <th>SIDM00042;PL4</th>\n",
       "      <th>SIDM00043;PCI-4B</th>\n",
       "      <th>SIDM00044;PCI-30</th>\n",
       "      <th>SIDM00045;HSC-39</th>\n",
       "      <th>SIDM00046;H3255</th>\n",
       "      <th>...</th>\n",
       "      <th>SIDM00176;CHSA8926</th>\n",
       "      <th>SIDM00179;MZ2-MEL</th>\n",
       "      <th>SIDM00180;LB996-RCC</th>\n",
       "      <th>SIDM00181;LB831-BLC</th>\n",
       "      <th>SIDM00182;LB771-HNC</th>\n",
       "      <th>SIDM00183;LB647-SCLC</th>\n",
       "      <th>SIDM00184;LB373-MEL-D</th>\n",
       "      <th>SIDM00185;LB2518-MEL</th>\n",
       "      <th>SIDM00186;LB2241-RCC</th>\n",
       "      <th>SIDM00187;LB1047-RCC</th>\n",
       "    </tr>\n",
       "  </thead>\n",
       "  <tbody>\n",
       "    <tr>\n",
       "      <th>0</th>\n",
       "      <td>P37108;SRP14_HUMAN</td>\n",
       "      <td>7.10955</td>\n",
       "      <td>6.82802</td>\n",
       "      <td>7.01426</td>\n",
       "      <td>5.28591</td>\n",
       "      <td>5.70786</td>\n",
       "      <td>6.73965</td>\n",
       "      <td>6.04591</td>\n",
       "      <td>6.20582</td>\n",
       "      <td>6.53547</td>\n",
       "      <td>...</td>\n",
       "      <td>5.56615</td>\n",
       "      <td>6.10347</td>\n",
       "      <td>6.07923</td>\n",
       "      <td>5.23132</td>\n",
       "      <td>6.33619</td>\n",
       "      <td>7.37676</td>\n",
       "      <td>6.09422</td>\n",
       "      <td>5.83401</td>\n",
       "      <td>5.73337</td>\n",
       "      <td>6.89669</td>\n",
       "    </tr>\n",
       "    <tr>\n",
       "      <th>1</th>\n",
       "      <td>Q96JP5;ZFP91_HUMAN</td>\n",
       "      <td>3.41494</td>\n",
       "      <td>4.14346</td>\n",
       "      <td>4.19987</td>\n",
       "      <td>3.35789</td>\n",
       "      <td>NaN</td>\n",
       "      <td>4.50199</td>\n",
       "      <td>3.69356</td>\n",
       "      <td>2.88118</td>\n",
       "      <td>NaN</td>\n",
       "      <td>...</td>\n",
       "      <td>NaN</td>\n",
       "      <td>3.60707</td>\n",
       "      <td>2.80437</td>\n",
       "      <td>2.22452</td>\n",
       "      <td>3.64149</td>\n",
       "      <td>3.79681</td>\n",
       "      <td>3.94879</td>\n",
       "      <td>3.48848</td>\n",
       "      <td>NaN</td>\n",
       "      <td>3.33413</td>\n",
       "    </tr>\n",
       "    <tr>\n",
       "      <th>2</th>\n",
       "      <td>Q9Y4H2;IRS2_HUMAN</td>\n",
       "      <td>NaN</td>\n",
       "      <td>2.23781</td>\n",
       "      <td>2.44055</td>\n",
       "      <td>NaN</td>\n",
       "      <td>NaN</td>\n",
       "      <td>NaN</td>\n",
       "      <td>NaN</td>\n",
       "      <td>NaN</td>\n",
       "      <td>NaN</td>\n",
       "      <td>...</td>\n",
       "      <td>NaN</td>\n",
       "      <td>3.06960</td>\n",
       "      <td>1.52496</td>\n",
       "      <td>NaN</td>\n",
       "      <td>3.34668</td>\n",
       "      <td>1.53053</td>\n",
       "      <td>2.82872</td>\n",
       "      <td>3.96016</td>\n",
       "      <td>2.85972</td>\n",
       "      <td>2.72827</td>\n",
       "    </tr>\n",
       "    <tr>\n",
       "      <th>3</th>\n",
       "      <td>P36578;RL4_HUMAN</td>\n",
       "      <td>7.86661</td>\n",
       "      <td>7.62878</td>\n",
       "      <td>8.12459</td>\n",
       "      <td>7.97268</td>\n",
       "      <td>6.22574</td>\n",
       "      <td>7.47364</td>\n",
       "      <td>7.07092</td>\n",
       "      <td>8.25336</td>\n",
       "      <td>6.47861</td>\n",
       "      <td>...</td>\n",
       "      <td>7.16703</td>\n",
       "      <td>7.80277</td>\n",
       "      <td>7.91449</td>\n",
       "      <td>7.52710</td>\n",
       "      <td>7.64464</td>\n",
       "      <td>7.17964</td>\n",
       "      <td>8.00794</td>\n",
       "      <td>8.00271</td>\n",
       "      <td>7.05454</td>\n",
       "      <td>7.64372</td>\n",
       "    </tr>\n",
       "    <tr>\n",
       "      <th>4</th>\n",
       "      <td>Q6SPF0;SAMD1_HUMAN</td>\n",
       "      <td>3.89547</td>\n",
       "      <td>3.19811</td>\n",
       "      <td>NaN</td>\n",
       "      <td>NaN</td>\n",
       "      <td>NaN</td>\n",
       "      <td>NaN</td>\n",
       "      <td>3.49594</td>\n",
       "      <td>3.35439</td>\n",
       "      <td>NaN</td>\n",
       "      <td>...</td>\n",
       "      <td>NaN</td>\n",
       "      <td>1.98149</td>\n",
       "      <td>NaN</td>\n",
       "      <td>3.22246</td>\n",
       "      <td>4.20897</td>\n",
       "      <td>4.70107</td>\n",
       "      <td>2.19203</td>\n",
       "      <td>3.43305</td>\n",
       "      <td>NaN</td>\n",
       "      <td>3.21860</td>\n",
       "    </tr>\n",
       "    <tr>\n",
       "      <th>...</th>\n",
       "      <td>...</td>\n",
       "      <td>...</td>\n",
       "      <td>...</td>\n",
       "      <td>...</td>\n",
       "      <td>...</td>\n",
       "      <td>...</td>\n",
       "      <td>...</td>\n",
       "      <td>...</td>\n",
       "      <td>...</td>\n",
       "      <td>...</td>\n",
       "      <td>...</td>\n",
       "      <td>...</td>\n",
       "      <td>...</td>\n",
       "      <td>...</td>\n",
       "      <td>...</td>\n",
       "      <td>...</td>\n",
       "      <td>...</td>\n",
       "      <td>...</td>\n",
       "      <td>...</td>\n",
       "      <td>...</td>\n",
       "      <td>...</td>\n",
       "    </tr>\n",
       "    <tr>\n",
       "      <th>6687</th>\n",
       "      <td>Q7Z3B1;NEGR1_HUMAN</td>\n",
       "      <td>NaN</td>\n",
       "      <td>NaN</td>\n",
       "      <td>NaN</td>\n",
       "      <td>NaN</td>\n",
       "      <td>NaN</td>\n",
       "      <td>NaN</td>\n",
       "      <td>NaN</td>\n",
       "      <td>NaN</td>\n",
       "      <td>NaN</td>\n",
       "      <td>...</td>\n",
       "      <td>3.69603</td>\n",
       "      <td>NaN</td>\n",
       "      <td>NaN</td>\n",
       "      <td>NaN</td>\n",
       "      <td>NaN</td>\n",
       "      <td>NaN</td>\n",
       "      <td>NaN</td>\n",
       "      <td>NaN</td>\n",
       "      <td>NaN</td>\n",
       "      <td>NaN</td>\n",
       "    </tr>\n",
       "    <tr>\n",
       "      <th>6688</th>\n",
       "      <td>O60669;MOT2_HUMAN</td>\n",
       "      <td>NaN</td>\n",
       "      <td>NaN</td>\n",
       "      <td>NaN</td>\n",
       "      <td>NaN</td>\n",
       "      <td>NaN</td>\n",
       "      <td>NaN</td>\n",
       "      <td>2.16952</td>\n",
       "      <td>NaN</td>\n",
       "      <td>NaN</td>\n",
       "      <td>...</td>\n",
       "      <td>NaN</td>\n",
       "      <td>NaN</td>\n",
       "      <td>NaN</td>\n",
       "      <td>1.97720</td>\n",
       "      <td>NaN</td>\n",
       "      <td>NaN</td>\n",
       "      <td>NaN</td>\n",
       "      <td>NaN</td>\n",
       "      <td>NaN</td>\n",
       "      <td>NaN</td>\n",
       "    </tr>\n",
       "    <tr>\n",
       "      <th>6689</th>\n",
       "      <td>Q13571;LAPM5_HUMAN</td>\n",
       "      <td>NaN</td>\n",
       "      <td>NaN</td>\n",
       "      <td>NaN</td>\n",
       "      <td>NaN</td>\n",
       "      <td>NaN</td>\n",
       "      <td>NaN</td>\n",
       "      <td>NaN</td>\n",
       "      <td>NaN</td>\n",
       "      <td>NaN</td>\n",
       "      <td>...</td>\n",
       "      <td>NaN</td>\n",
       "      <td>NaN</td>\n",
       "      <td>NaN</td>\n",
       "      <td>NaN</td>\n",
       "      <td>NaN</td>\n",
       "      <td>NaN</td>\n",
       "      <td>NaN</td>\n",
       "      <td>NaN</td>\n",
       "      <td>NaN</td>\n",
       "      <td>NaN</td>\n",
       "    </tr>\n",
       "    <tr>\n",
       "      <th>6690</th>\n",
       "      <td>Q96JM2;ZN462_HUMAN</td>\n",
       "      <td>NaN</td>\n",
       "      <td>NaN</td>\n",
       "      <td>NaN</td>\n",
       "      <td>NaN</td>\n",
       "      <td>NaN</td>\n",
       "      <td>3.39328</td>\n",
       "      <td>NaN</td>\n",
       "      <td>NaN</td>\n",
       "      <td>NaN</td>\n",
       "      <td>...</td>\n",
       "      <td>NaN</td>\n",
       "      <td>NaN</td>\n",
       "      <td>NaN</td>\n",
       "      <td>NaN</td>\n",
       "      <td>3.84846</td>\n",
       "      <td>3.77295</td>\n",
       "      <td>NaN</td>\n",
       "      <td>NaN</td>\n",
       "      <td>NaN</td>\n",
       "      <td>NaN</td>\n",
       "    </tr>\n",
       "    <tr>\n",
       "      <th>6691</th>\n",
       "      <td>P35558;PCKGC_HUMAN</td>\n",
       "      <td>NaN</td>\n",
       "      <td>NaN</td>\n",
       "      <td>NaN</td>\n",
       "      <td>NaN</td>\n",
       "      <td>NaN</td>\n",
       "      <td>NaN</td>\n",
       "      <td>NaN</td>\n",
       "      <td>NaN</td>\n",
       "      <td>NaN</td>\n",
       "      <td>...</td>\n",
       "      <td>NaN</td>\n",
       "      <td>NaN</td>\n",
       "      <td>NaN</td>\n",
       "      <td>NaN</td>\n",
       "      <td>NaN</td>\n",
       "      <td>NaN</td>\n",
       "      <td>NaN</td>\n",
       "      <td>NaN</td>\n",
       "      <td>NaN</td>\n",
       "      <td>NaN</td>\n",
       "    </tr>\n",
       "  </tbody>\n",
       "</table>\n",
       "<p>6692 rows × 101 columns</p>\n",
       "</div>"
      ],
      "text/plain": [
       "Project_Identifier               index  SIDM00018;K052  SIDM00023;TE-12  \\\n",
       "0                   P37108;SRP14_HUMAN         7.10955          6.82802   \n",
       "1                   Q96JP5;ZFP91_HUMAN         3.41494          4.14346   \n",
       "2                    Q9Y4H2;IRS2_HUMAN             NaN          2.23781   \n",
       "3                     P36578;RL4_HUMAN         7.86661          7.62878   \n",
       "4                   Q6SPF0;SAMD1_HUMAN         3.89547          3.19811   \n",
       "...                                ...             ...              ...   \n",
       "6687                Q7Z3B1;NEGR1_HUMAN             NaN              NaN   \n",
       "6688                 O60669;MOT2_HUMAN             NaN              NaN   \n",
       "6689                Q13571;LAPM5_HUMAN             NaN              NaN   \n",
       "6690                Q96JM2;ZN462_HUMAN             NaN              NaN   \n",
       "6691                P35558;PCKGC_HUMAN             NaN              NaN   \n",
       "\n",
       "Project_Identifier  SIDM00040;TMK-1  SIDM00041;STS-0421  SIDM00042;PL4  \\\n",
       "0                           7.01426             5.28591        5.70786   \n",
       "1                           4.19987             3.35789            NaN   \n",
       "2                           2.44055                 NaN            NaN   \n",
       "3                           8.12459             7.97268        6.22574   \n",
       "4                               NaN                 NaN            NaN   \n",
       "...                             ...                 ...            ...   \n",
       "6687                            NaN                 NaN            NaN   \n",
       "6688                            NaN                 NaN            NaN   \n",
       "6689                            NaN                 NaN            NaN   \n",
       "6690                            NaN                 NaN            NaN   \n",
       "6691                            NaN                 NaN            NaN   \n",
       "\n",
       "Project_Identifier  SIDM00043;PCI-4B  SIDM00044;PCI-30  SIDM00045;HSC-39  \\\n",
       "0                            6.73965           6.04591           6.20582   \n",
       "1                            4.50199           3.69356           2.88118   \n",
       "2                                NaN               NaN               NaN   \n",
       "3                            7.47364           7.07092           8.25336   \n",
       "4                                NaN           3.49594           3.35439   \n",
       "...                              ...               ...               ...   \n",
       "6687                             NaN               NaN               NaN   \n",
       "6688                             NaN           2.16952               NaN   \n",
       "6689                             NaN               NaN               NaN   \n",
       "6690                         3.39328               NaN               NaN   \n",
       "6691                             NaN               NaN               NaN   \n",
       "\n",
       "Project_Identifier  SIDM00046;H3255  ...  SIDM00176;CHSA8926  \\\n",
       "0                           6.53547  ...             5.56615   \n",
       "1                               NaN  ...                 NaN   \n",
       "2                               NaN  ...                 NaN   \n",
       "3                           6.47861  ...             7.16703   \n",
       "4                               NaN  ...                 NaN   \n",
       "...                             ...  ...                 ...   \n",
       "6687                            NaN  ...             3.69603   \n",
       "6688                            NaN  ...                 NaN   \n",
       "6689                            NaN  ...                 NaN   \n",
       "6690                            NaN  ...                 NaN   \n",
       "6691                            NaN  ...                 NaN   \n",
       "\n",
       "Project_Identifier  SIDM00179;MZ2-MEL  SIDM00180;LB996-RCC  \\\n",
       "0                             6.10347              6.07923   \n",
       "1                             3.60707              2.80437   \n",
       "2                             3.06960              1.52496   \n",
       "3                             7.80277              7.91449   \n",
       "4                             1.98149                  NaN   \n",
       "...                               ...                  ...   \n",
       "6687                              NaN                  NaN   \n",
       "6688                              NaN                  NaN   \n",
       "6689                              NaN                  NaN   \n",
       "6690                              NaN                  NaN   \n",
       "6691                              NaN                  NaN   \n",
       "\n",
       "Project_Identifier  SIDM00181;LB831-BLC  SIDM00182;LB771-HNC  \\\n",
       "0                               5.23132              6.33619   \n",
       "1                               2.22452              3.64149   \n",
       "2                                   NaN              3.34668   \n",
       "3                               7.52710              7.64464   \n",
       "4                               3.22246              4.20897   \n",
       "...                                 ...                  ...   \n",
       "6687                                NaN                  NaN   \n",
       "6688                            1.97720                  NaN   \n",
       "6689                                NaN                  NaN   \n",
       "6690                                NaN              3.84846   \n",
       "6691                                NaN                  NaN   \n",
       "\n",
       "Project_Identifier  SIDM00183;LB647-SCLC  SIDM00184;LB373-MEL-D  \\\n",
       "0                                7.37676                6.09422   \n",
       "1                                3.79681                3.94879   \n",
       "2                                1.53053                2.82872   \n",
       "3                                7.17964                8.00794   \n",
       "4                                4.70107                2.19203   \n",
       "...                                  ...                    ...   \n",
       "6687                                 NaN                    NaN   \n",
       "6688                                 NaN                    NaN   \n",
       "6689                                 NaN                    NaN   \n",
       "6690                             3.77295                    NaN   \n",
       "6691                                 NaN                    NaN   \n",
       "\n",
       "Project_Identifier  SIDM00185;LB2518-MEL  SIDM00186;LB2241-RCC  \\\n",
       "0                                5.83401               5.73337   \n",
       "1                                3.48848                   NaN   \n",
       "2                                3.96016               2.85972   \n",
       "3                                8.00271               7.05454   \n",
       "4                                3.43305                   NaN   \n",
       "...                                  ...                   ...   \n",
       "6687                                 NaN                   NaN   \n",
       "6688                                 NaN                   NaN   \n",
       "6689                                 NaN                   NaN   \n",
       "6690                                 NaN                   NaN   \n",
       "6691                                 NaN                   NaN   \n",
       "\n",
       "Project_Identifier  SIDM00187;LB1047-RCC  \n",
       "0                                6.89669  \n",
       "1                                3.33413  \n",
       "2                                2.72827  \n",
       "3                                7.64372  \n",
       "4                                3.21860  \n",
       "...                                  ...  \n",
       "6687                                 NaN  \n",
       "6688                                 NaN  \n",
       "6689                                 NaN  \n",
       "6690                                 NaN  \n",
       "6691                                 NaN  \n",
       "\n",
       "[6692 rows x 101 columns]"
      ]
     },
     "execution_count": 3,
     "metadata": {},
     "output_type": "execute_result"
    }
   ],
   "source": [
    "df = pd.read_excel('data.xlsx', sheet_name='Prot matrix excl single-peptide', skiprows=1, index_col=0, nrows=100)\n",
    "df = df.transpose().reset_index()\n",
    "df"
   ]
  },
  {
   "cell_type": "code",
   "execution_count": 4,
   "metadata": {},
   "outputs": [],
   "source": [
    "df.set_index('index', inplace=True)\n",
    "df.reset_index(inplace=True)"
   ]
  },
  {
   "cell_type": "markdown",
   "metadata": {},
   "source": [
    "# Penalty factor determining"
   ]
  },
  {
   "cell_type": "code",
   "execution_count": 5,
   "metadata": {},
   "outputs": [],
   "source": [
    "metadata = pd.read_excel('metadata.xlsx', sheet_name = 'Cell line level sample info', skiprows=1)\n",
    "#where metadata.Tissue_type is 'Haematopietic and Lymphoid', replace with the content from Haem_lineage column except if that is NaN\n",
    "metadata['Tissue_type'] = metadata.apply(lambda x: x['Haem_lineage'] if x['Tissue_type'] == 'Haematopoietic and Lymphoid' else x['Tissue_type'], axis=1)\n",
    "tissue_type_map = metadata.set_index('Cell_line')[['Tissue_type']].to_dict()['Tissue_type']\n",
    "\n",
    "metadata_to_mlmarker = {\n",
    "    'Haematopoietic and Lymphoid': ['Lymph node', 'T-cells', 'B-cells', 'NK-cells'],\n",
    "    'Lung': [],  # No exact match, left empty\n",
    "    'Stomach': ['Colon', 'Small intestine'],\n",
    "    'Breast': [],  # No match in MLMarker_list\n",
    "    'Bone': [],  # No match in MLMarker_list\n",
    "    'Ovary': ['Ovary'],\n",
    "    'Skin': [],  # No match in MLMarker_list\n",
    "    'Head and Neck': ['Parotid gland'],\n",
    "    'Endometrium': [],  # No match in MLMarker_list\n",
    "    'Adrenal Gland': ['Adrenal gland'],\n",
    "    'Central Nervous System': ['Brain'],\n",
    "    'Pancreas': [],  # No match in MLMarker_list\n",
    "    'Prostate': ['Prostate'],\n",
    "    'Peripheral Nervous System': ['Brain'],\n",
    "    'Other tissue': [],  # Generic, no direct mapping\n",
    "    'Large Intestine': ['Colon', \"Small intestine\"],\n",
    "    'Cervix': [],  # No match in MLMarker_list\n",
    "    'Kidney': [],  # No match in MLMarker_list\n",
    "    'Liver': ['Liver'],\n",
    "    'Soft Tissue': ['Adipose tissue'],\n",
    "    'Biliary Tract': ['Gall bladder'],\n",
    "    'Bladder': ['Urinary bladder'],\n",
    "    'Esophagus': ['Esophagus'],\n",
    "    'Testis': ['Testis'],\n",
    "    'Thyroid': [],  # No match in MLMarker_list\n",
    "    'Vulva': [],  # No match in MLMarker_list\n",
    "    'Small Intestine': ['Small intestine', \"Colon\"],\n",
    "    'Placenta': ['Placenta'], \n",
    "    'B lymphoid': ['B-cells'], 'Myeloid' : ['Lymph node'],'T lymphoid':['T-cells'], 'NK lymphoid': ['NK-cells']\n",
    "}\n",
    "\n",
    "haem_lineage_to_mlmarker = {}"
   ]
  },
  {
   "cell_type": "code",
   "execution_count": 24,
   "metadata": {},
   "outputs": [],
   "source": [
    "tissues_to_keep = []\n",
    "cell_lines_to_keep = []\n",
    "for k,v in metadata_to_mlmarker.items():\n",
    "    if len(v) != 0:\n",
    "        tissues_to_keep.append(k)\n",
    "for k,v in tissue_type_map.items():\n",
    "    if v in tissues_to_keep:\n",
    "        cell_lines_to_keep.append(k)\n",
    "metadata_matched = metadata[metadata['Cell_line'].isin(cell_lines_to_keep)]\n",
    "projects_to_keep = metadata_matched['Project_Identifier'].unique()\n",
    "df_matched = df.set_index('index')[df.columns[df.columns.isin(projects_to_keep)]].reset_index()\n",
    "#column is in metadata_matched['Project_Identifier']"
   ]
  },
  {
   "cell_type": "code",
   "execution_count": 6,
   "metadata": {},
   "outputs": [],
   "source": [
    "import numpy as np\n",
    "import pandas as pd\n",
    "import plotly.express as px\n",
    "from sklearn.preprocessing import MinMaxScaler\n",
    "from itertools import product\n",
    "from mlmarker.model import MLMarker\n",
    "from tqdm import tqdm\n",
    "\n",
    "# Define penalty formula\n",
    "def compute_penalty_factor(missingness_percentage, k, m0):\n",
    "    return 2 / (1 + np.exp(-k * (missingness_percentage - m0)))\n",
    "\n",
    "# Generate sigmoid curves for visualization\n",
    "def visualize_sigmoid_curves(k_values, m0_values):\n",
    "    missingness_range = np.linspace(0, 1, 100)\n",
    "    for k, m0 in product(k_values, m0_values):\n",
    "        penalties = compute_penalty_factor(missingness_range, k, m0)\n",
    "        fig = px.line(x=missingness_range, y=penalties, \n",
    "                      title=f\"Penalty Curve (k={k}, m0={m0})\",\n",
    "                      labels={\"x\": \"Missingness\", \"y\": \"Penalty Factor\"})\n",
    "        fig.show()\n",
    "\n",
    "# Predict for each sample and compute accuracy\n",
    "def predict_and_evaluate(df, k_values, m0_values, tissue_type_map, metadata_to_mlmarker):\n",
    "    results = []\n",
    "    param_combinations = list(product(k_values, m0_values))\n",
    "    for k, m0 in tqdm(param_combinations, desc=\"Parameter combinations\", leave=True):\n",
    "        prediction_dict = {}\n",
    "        correct_predictions = 0\n",
    "        total_predictions = 0\n",
    "        correct_predictions_top3 = 0\n",
    "        total_predictions_top3 = 0\n",
    "\n",
    "        for c in tqdm(df.columns[1:], desc=f\"Processing samples (k={k}, m0={m0})\", leave=True):\n",
    "            print(c)\n",
    "            # Preprocess data\n",
    "            subset = df[[\"index\", c]].dropna()\n",
    "            scaler = MinMaxScaler()\n",
    "            subset[c] = scaler.fit_transform(subset[[c]])\n",
    "            subset[\"index\"] = subset[\"index\"].apply(lambda x: x.split(\";\")[0])\n",
    "            data = subset.pivot_table(columns=\"index\", values=c, aggfunc=\"sum\").fillna(0)\n",
    "            \n",
    "            # Compute missingness and penalty factor\n",
    "            missingness = (data == 0).mean(axis=1).iloc[0]\n",
    "            penalty_factor = compute_penalty_factor(missingness, k, m0)\n",
    "            # Run MLMarker prediction\n",
    "            test = MLMarker(data.iloc[0:1, :], binary=False)\n",
    "            prediction = test.explainability.adjusted_absent_shap_values_df(penalty_factor=penalty_factor)\n",
    "            prediction = prediction.sum(axis=1).sort_values(ascending=False)\n",
    "            prediction_dict[c] = prediction\n",
    "            \n",
    "            # Evaluate prediction\n",
    "            expected_tissue = tissue_type_map.get(c.split(';')[1], None)\n",
    "            if not expected_tissue:\n",
    "                continue  # Skip if no mapping exists for the column\n",
    "            \n",
    "            mlmarker_tissues = metadata_to_mlmarker.get(expected_tissue, [])\n",
    "            top_prediction = prediction.index[0] if not prediction.empty else None\n",
    "            if top_prediction in mlmarker_tissues:\n",
    "                correct_predictions += 1\n",
    "            total_predictions += 1\n",
    "\n",
    "            #alsoo look at top 3 of predictions\n",
    "            top3_predictions = prediction.index[:3] if not prediction.empty else None\n",
    "            print(top3_predictions, mlmarker_tissues)\n",
    "            if all(elem in top3_predictions for elem in mlmarker_tissues):\n",
    "                correct_predictions_top3 += 1\n",
    "            total_predictions_top3 += 1\n",
    "\n",
    "        accuracy = correct_predictions / total_predictions if total_predictions > 0 else 0\n",
    "        accuracy_top3 = correct_predictions_top3 / total_predictions_top3 if total_predictions_top3 > 0 else 0\n",
    "        print(accuracy)\n",
    "        results.append({\"k\": k, \"m0\": m0, \"accuracy\": accuracy, \"accuracy_top3\": accuracy_top3})\n",
    "    return results"
   ]
  },
  {
   "cell_type": "code",
   "execution_count": 81,
   "metadata": {},
   "outputs": [
    {
     "name": "stderr",
     "output_type": "stream",
     "text": [
      "Parameter combinations:   0%|          | 0/100 [00:00<?, ?it/s]"
     ]
    },
    {
     "name": "stdout",
     "output_type": "stream",
     "text": [
      "SIDM00018;K052\n",
      "Features added: 2221, removed: 1527, remaining: 2163\n"
     ]
    },
    {
     "name": "stderr",
     "output_type": "stream",
     "text": [
      "Processing samples (k=1, m0=0.5):   0%|          | 0/100 [00:01<?, ?it/s]\n",
      "Parameter combinations:   0%|          | 0/100 [00:01<?, ?it/s]"
     ]
    },
    {
     "name": "stdout",
     "output_type": "stream",
     "text": [
      "Index(['NK-cells', 'B-cells', 'Parotid gland'], dtype='object', name='tissue') ['Lymph node']\n"
     ]
    },
    {
     "name": "stderr",
     "output_type": "stream",
     "text": [
      "\n"
     ]
    },
    {
     "ename": "ValueError",
     "evalue": "The truth value of an array with more than one element is ambiguous. Use a.any() or a.all()",
     "output_type": "error",
     "traceback": [
      "\u001b[0;31m---------------------------------------------------------------------------\u001b[0m",
      "\u001b[0;31mValueError\u001b[0m                                Traceback (most recent call last)",
      "Cell \u001b[0;32mIn[81], line 8\u001b[0m\n\u001b[1;32m      2\u001b[0m m0_values \u001b[38;5;241m=\u001b[39m [\u001b[38;5;241m0.5\u001b[39m, \u001b[38;5;241m0.55\u001b[39m, \u001b[38;5;241m0.6\u001b[39m, \u001b[38;5;241m0.65\u001b[39m, \u001b[38;5;241m0.7\u001b[39m, \u001b[38;5;241m0.75\u001b[39m, \u001b[38;5;241m0.8\u001b[39m, \u001b[38;5;241m0.85\u001b[39m, \u001b[38;5;241m0.9\u001b[39m, \u001b[38;5;241m0.95\u001b[39m] \u001b[38;5;66;03m#midpoint\u001b[39;00m\n\u001b[1;32m      4\u001b[0m \u001b[38;5;66;03m# # Visualize sigmoid curves\u001b[39;00m\n\u001b[1;32m      5\u001b[0m \u001b[38;5;66;03m# visualize_sigmoid_curves(k_values, m0_values)\u001b[39;00m\n\u001b[1;32m      6\u001b[0m \n\u001b[1;32m      7\u001b[0m \u001b[38;5;66;03m# Predict and evaluate\u001b[39;00m\n\u001b[0;32m----> 8\u001b[0m results_df \u001b[38;5;241m=\u001b[39m \u001b[43mpredict_and_evaluate\u001b[49m\u001b[43m(\u001b[49m\u001b[43mdf\u001b[49m\u001b[43m,\u001b[49m\u001b[43m \u001b[49m\u001b[43mk_values\u001b[49m\u001b[43m,\u001b[49m\u001b[43m \u001b[49m\u001b[43mm0_values\u001b[49m\u001b[43m,\u001b[49m\u001b[43m \u001b[49m\u001b[43mtissue_type_map\u001b[49m\u001b[43m,\u001b[49m\u001b[43m \u001b[49m\u001b[43mmetadata_to_mlmarker\u001b[49m\u001b[43m)\u001b[49m\n",
      "Cell \u001b[0;32mIn[80], line 66\u001b[0m, in \u001b[0;36mpredict_and_evaluate\u001b[0;34m(df, k_values, m0_values, tissue_type_map, metadata_to_mlmarker)\u001b[0m\n\u001b[1;32m     64\u001b[0m top3_predictions \u001b[38;5;241m=\u001b[39m prediction\u001b[38;5;241m.\u001b[39mindex[:\u001b[38;5;241m3\u001b[39m] \u001b[38;5;28;01mif\u001b[39;00m \u001b[38;5;129;01mnot\u001b[39;00m prediction\u001b[38;5;241m.\u001b[39mempty \u001b[38;5;28;01melse\u001b[39;00m \u001b[38;5;28;01mNone\u001b[39;00m\n\u001b[1;32m     65\u001b[0m \u001b[38;5;28mprint\u001b[39m(top3_predictions, mlmarker_tissues)\n\u001b[0;32m---> 66\u001b[0m \u001b[38;5;28;01mif\u001b[39;00m \u001b[43mtop3_predictions\u001b[49m\u001b[43m \u001b[49m\u001b[38;5;129;43;01min\u001b[39;49;00m\u001b[43m \u001b[49m\u001b[43mmlmarker_tissues\u001b[49m:\n\u001b[1;32m     67\u001b[0m     correct_predictions_top3 \u001b[38;5;241m+\u001b[39m\u001b[38;5;241m=\u001b[39m \u001b[38;5;241m1\u001b[39m\n\u001b[1;32m     68\u001b[0m total_predictions_top3 \u001b[38;5;241m+\u001b[39m\u001b[38;5;241m=\u001b[39m \u001b[38;5;241m1\u001b[39m\n",
      "\u001b[0;31mValueError\u001b[0m: The truth value of an array with more than one element is ambiguous. Use a.any() or a.all()"
     ]
    }
   ],
   "source": [
    "k_values = range(1,50,5) #steepness\n",
    "m0_values = [0.5, 0.55, 0.6, 0.65, 0.7, 0.75, 0.8, 0.85, 0.9, 0.95] #midpoint\n",
    "\n",
    "# # Visualize sigmoid curves\n",
    "# visualize_sigmoid_curves(k_values, m0_values)\n",
    "\n",
    "# Predict and evaluate\n",
    "results_df = predict_and_evaluate(df, k_values, m0_values, tissue_type_map, metadata_to_mlmarker)\n"
   ]
  },
  {
   "cell_type": "code",
   "execution_count": null,
   "metadata": {},
   "outputs": [
    {
     "data": {
      "application/vnd.plotly.v1+json": {
       "config": {
        "plotlyServerURL": "https://plot.ly"
       },
       "data": [
        {
         "hovertemplate": "Steepness (k)=%{x}<br>Midpoint (m0)=%{y}<br>Accuracy=%{marker.color}<extra></extra>",
         "legendgroup": "",
         "marker": {
          "color": [
           0,
           0,
           0,
           0,
           0,
           0,
           0,
           0,
           0,
           0,
           0,
           0,
           0,
           0,
           0,
           0,
           0,
           0,
           0,
           0,
           0,
           0,
           0,
           0,
           0,
           0,
           0,
           0,
           0,
           0,
           0,
           0,
           0,
           0,
           0,
           0,
           0,
           0,
           0,
           0,
           0,
           0,
           0,
           0,
           0,
           0,
           0,
           0,
           0,
           0,
           0,
           0,
           0,
           0,
           0,
           0,
           0,
           0,
           0,
           0,
           0,
           0,
           0,
           0,
           0,
           0,
           0,
           0,
           0,
           0,
           0,
           0,
           0,
           0,
           0,
           0,
           0,
           0,
           0,
           0,
           0,
           0,
           0,
           0,
           0,
           0,
           0,
           0,
           0,
           0,
           0,
           0,
           0,
           0,
           0,
           0,
           0,
           0,
           0,
           0
          ],
          "coloraxis": "coloraxis",
          "size": [
           0,
           0,
           0,
           0,
           0,
           0,
           0,
           0,
           0,
           0,
           0,
           0,
           0,
           0,
           0,
           0,
           0,
           0,
           0,
           0,
           0,
           0,
           0,
           0,
           0,
           0,
           0,
           0,
           0,
           0,
           0,
           0,
           0,
           0,
           0,
           0,
           0,
           0,
           0,
           0,
           0,
           0,
           0,
           0,
           0,
           0,
           0,
           0,
           0,
           0,
           0,
           0,
           0,
           0,
           0,
           0,
           0,
           0,
           0,
           0,
           0,
           0,
           0,
           0,
           0,
           0,
           0,
           0,
           0,
           0,
           0,
           0,
           0,
           0,
           0,
           0,
           0,
           0,
           0,
           0,
           0,
           0,
           0,
           0,
           0,
           0,
           0,
           0,
           0,
           0,
           0,
           0,
           0,
           0,
           0,
           0,
           0,
           0,
           0,
           0
          ],
          "sizemode": "area",
          "sizeref": 0,
          "symbol": "circle"
         },
         "mode": "markers",
         "name": "",
         "orientation": "v",
         "showlegend": false,
         "type": "scatter",
         "x": [
          1,
          1,
          1,
          1,
          1,
          1,
          1,
          1,
          1,
          1,
          6,
          6,
          6,
          6,
          6,
          6,
          6,
          6,
          6,
          6,
          11,
          11,
          11,
          11,
          11,
          11,
          11,
          11,
          11,
          11,
          16,
          16,
          16,
          16,
          16,
          16,
          16,
          16,
          16,
          16,
          21,
          21,
          21,
          21,
          21,
          21,
          21,
          21,
          21,
          21,
          26,
          26,
          26,
          26,
          26,
          26,
          26,
          26,
          26,
          26,
          31,
          31,
          31,
          31,
          31,
          31,
          31,
          31,
          31,
          31,
          36,
          36,
          36,
          36,
          36,
          36,
          36,
          36,
          36,
          36,
          41,
          41,
          41,
          41,
          41,
          41,
          41,
          41,
          41,
          41,
          46,
          46,
          46,
          46,
          46,
          46,
          46,
          46,
          46,
          46
         ],
         "xaxis": "x",
         "y": [
          0.5,
          0.55,
          0.6,
          0.65,
          0.7,
          0.75,
          0.8,
          0.85,
          0.9,
          0.95,
          0.5,
          0.55,
          0.6,
          0.65,
          0.7,
          0.75,
          0.8,
          0.85,
          0.9,
          0.95,
          0.5,
          0.55,
          0.6,
          0.65,
          0.7,
          0.75,
          0.8,
          0.85,
          0.9,
          0.95,
          0.5,
          0.55,
          0.6,
          0.65,
          0.7,
          0.75,
          0.8,
          0.85,
          0.9,
          0.95,
          0.5,
          0.55,
          0.6,
          0.65,
          0.7,
          0.75,
          0.8,
          0.85,
          0.9,
          0.95,
          0.5,
          0.55,
          0.6,
          0.65,
          0.7,
          0.75,
          0.8,
          0.85,
          0.9,
          0.95,
          0.5,
          0.55,
          0.6,
          0.65,
          0.7,
          0.75,
          0.8,
          0.85,
          0.9,
          0.95,
          0.5,
          0.55,
          0.6,
          0.65,
          0.7,
          0.75,
          0.8,
          0.85,
          0.9,
          0.95,
          0.5,
          0.55,
          0.6,
          0.65,
          0.7,
          0.75,
          0.8,
          0.85,
          0.9,
          0.95,
          0.5,
          0.55,
          0.6,
          0.65,
          0.7,
          0.75,
          0.8,
          0.85,
          0.9,
          0.95
         ],
         "yaxis": "y"
        }
       ],
       "layout": {
        "coloraxis": {
         "colorbar": {
          "title": {
           "text": "Accuracy"
          }
         },
         "colorscale": [
          [
           0,
           "#0d0887"
          ],
          [
           0.1111111111111111,
           "#46039f"
          ],
          [
           0.2222222222222222,
           "#7201a8"
          ],
          [
           0.3333333333333333,
           "#9c179e"
          ],
          [
           0.4444444444444444,
           "#bd3786"
          ],
          [
           0.5555555555555556,
           "#d8576b"
          ],
          [
           0.6666666666666666,
           "#ed7953"
          ],
          [
           0.7777777777777778,
           "#fb9f3a"
          ],
          [
           0.8888888888888888,
           "#fdca26"
          ],
          [
           1,
           "#f0f921"
          ]
         ]
        },
        "legend": {
         "itemsizing": "constant",
         "tracegroupgap": 0
        },
        "template": {
         "data": {
          "bar": [
           {
            "error_x": {
             "color": "#2a3f5f"
            },
            "error_y": {
             "color": "#2a3f5f"
            },
            "marker": {
             "line": {
              "color": "#E5ECF6",
              "width": 0.5
             },
             "pattern": {
              "fillmode": "overlay",
              "size": 10,
              "solidity": 0.2
             }
            },
            "type": "bar"
           }
          ],
          "barpolar": [
           {
            "marker": {
             "line": {
              "color": "#E5ECF6",
              "width": 0.5
             },
             "pattern": {
              "fillmode": "overlay",
              "size": 10,
              "solidity": 0.2
             }
            },
            "type": "barpolar"
           }
          ],
          "carpet": [
           {
            "aaxis": {
             "endlinecolor": "#2a3f5f",
             "gridcolor": "white",
             "linecolor": "white",
             "minorgridcolor": "white",
             "startlinecolor": "#2a3f5f"
            },
            "baxis": {
             "endlinecolor": "#2a3f5f",
             "gridcolor": "white",
             "linecolor": "white",
             "minorgridcolor": "white",
             "startlinecolor": "#2a3f5f"
            },
            "type": "carpet"
           }
          ],
          "choropleth": [
           {
            "colorbar": {
             "outlinewidth": 0,
             "ticks": ""
            },
            "type": "choropleth"
           }
          ],
          "contour": [
           {
            "colorbar": {
             "outlinewidth": 0,
             "ticks": ""
            },
            "colorscale": [
             [
              0,
              "#0d0887"
             ],
             [
              0.1111111111111111,
              "#46039f"
             ],
             [
              0.2222222222222222,
              "#7201a8"
             ],
             [
              0.3333333333333333,
              "#9c179e"
             ],
             [
              0.4444444444444444,
              "#bd3786"
             ],
             [
              0.5555555555555556,
              "#d8576b"
             ],
             [
              0.6666666666666666,
              "#ed7953"
             ],
             [
              0.7777777777777778,
              "#fb9f3a"
             ],
             [
              0.8888888888888888,
              "#fdca26"
             ],
             [
              1,
              "#f0f921"
             ]
            ],
            "type": "contour"
           }
          ],
          "contourcarpet": [
           {
            "colorbar": {
             "outlinewidth": 0,
             "ticks": ""
            },
            "type": "contourcarpet"
           }
          ],
          "heatmap": [
           {
            "colorbar": {
             "outlinewidth": 0,
             "ticks": ""
            },
            "colorscale": [
             [
              0,
              "#0d0887"
             ],
             [
              0.1111111111111111,
              "#46039f"
             ],
             [
              0.2222222222222222,
              "#7201a8"
             ],
             [
              0.3333333333333333,
              "#9c179e"
             ],
             [
              0.4444444444444444,
              "#bd3786"
             ],
             [
              0.5555555555555556,
              "#d8576b"
             ],
             [
              0.6666666666666666,
              "#ed7953"
             ],
             [
              0.7777777777777778,
              "#fb9f3a"
             ],
             [
              0.8888888888888888,
              "#fdca26"
             ],
             [
              1,
              "#f0f921"
             ]
            ],
            "type": "heatmap"
           }
          ],
          "heatmapgl": [
           {
            "colorbar": {
             "outlinewidth": 0,
             "ticks": ""
            },
            "colorscale": [
             [
              0,
              "#0d0887"
             ],
             [
              0.1111111111111111,
              "#46039f"
             ],
             [
              0.2222222222222222,
              "#7201a8"
             ],
             [
              0.3333333333333333,
              "#9c179e"
             ],
             [
              0.4444444444444444,
              "#bd3786"
             ],
             [
              0.5555555555555556,
              "#d8576b"
             ],
             [
              0.6666666666666666,
              "#ed7953"
             ],
             [
              0.7777777777777778,
              "#fb9f3a"
             ],
             [
              0.8888888888888888,
              "#fdca26"
             ],
             [
              1,
              "#f0f921"
             ]
            ],
            "type": "heatmapgl"
           }
          ],
          "histogram": [
           {
            "marker": {
             "pattern": {
              "fillmode": "overlay",
              "size": 10,
              "solidity": 0.2
             }
            },
            "type": "histogram"
           }
          ],
          "histogram2d": [
           {
            "colorbar": {
             "outlinewidth": 0,
             "ticks": ""
            },
            "colorscale": [
             [
              0,
              "#0d0887"
             ],
             [
              0.1111111111111111,
              "#46039f"
             ],
             [
              0.2222222222222222,
              "#7201a8"
             ],
             [
              0.3333333333333333,
              "#9c179e"
             ],
             [
              0.4444444444444444,
              "#bd3786"
             ],
             [
              0.5555555555555556,
              "#d8576b"
             ],
             [
              0.6666666666666666,
              "#ed7953"
             ],
             [
              0.7777777777777778,
              "#fb9f3a"
             ],
             [
              0.8888888888888888,
              "#fdca26"
             ],
             [
              1,
              "#f0f921"
             ]
            ],
            "type": "histogram2d"
           }
          ],
          "histogram2dcontour": [
           {
            "colorbar": {
             "outlinewidth": 0,
             "ticks": ""
            },
            "colorscale": [
             [
              0,
              "#0d0887"
             ],
             [
              0.1111111111111111,
              "#46039f"
             ],
             [
              0.2222222222222222,
              "#7201a8"
             ],
             [
              0.3333333333333333,
              "#9c179e"
             ],
             [
              0.4444444444444444,
              "#bd3786"
             ],
             [
              0.5555555555555556,
              "#d8576b"
             ],
             [
              0.6666666666666666,
              "#ed7953"
             ],
             [
              0.7777777777777778,
              "#fb9f3a"
             ],
             [
              0.8888888888888888,
              "#fdca26"
             ],
             [
              1,
              "#f0f921"
             ]
            ],
            "type": "histogram2dcontour"
           }
          ],
          "mesh3d": [
           {
            "colorbar": {
             "outlinewidth": 0,
             "ticks": ""
            },
            "type": "mesh3d"
           }
          ],
          "parcoords": [
           {
            "line": {
             "colorbar": {
              "outlinewidth": 0,
              "ticks": ""
             }
            },
            "type": "parcoords"
           }
          ],
          "pie": [
           {
            "automargin": true,
            "type": "pie"
           }
          ],
          "scatter": [
           {
            "fillpattern": {
             "fillmode": "overlay",
             "size": 10,
             "solidity": 0.2
            },
            "type": "scatter"
           }
          ],
          "scatter3d": [
           {
            "line": {
             "colorbar": {
              "outlinewidth": 0,
              "ticks": ""
             }
            },
            "marker": {
             "colorbar": {
              "outlinewidth": 0,
              "ticks": ""
             }
            },
            "type": "scatter3d"
           }
          ],
          "scattercarpet": [
           {
            "marker": {
             "colorbar": {
              "outlinewidth": 0,
              "ticks": ""
             }
            },
            "type": "scattercarpet"
           }
          ],
          "scattergeo": [
           {
            "marker": {
             "colorbar": {
              "outlinewidth": 0,
              "ticks": ""
             }
            },
            "type": "scattergeo"
           }
          ],
          "scattergl": [
           {
            "marker": {
             "colorbar": {
              "outlinewidth": 0,
              "ticks": ""
             }
            },
            "type": "scattergl"
           }
          ],
          "scattermapbox": [
           {
            "marker": {
             "colorbar": {
              "outlinewidth": 0,
              "ticks": ""
             }
            },
            "type": "scattermapbox"
           }
          ],
          "scatterpolar": [
           {
            "marker": {
             "colorbar": {
              "outlinewidth": 0,
              "ticks": ""
             }
            },
            "type": "scatterpolar"
           }
          ],
          "scatterpolargl": [
           {
            "marker": {
             "colorbar": {
              "outlinewidth": 0,
              "ticks": ""
             }
            },
            "type": "scatterpolargl"
           }
          ],
          "scatterternary": [
           {
            "marker": {
             "colorbar": {
              "outlinewidth": 0,
              "ticks": ""
             }
            },
            "type": "scatterternary"
           }
          ],
          "surface": [
           {
            "colorbar": {
             "outlinewidth": 0,
             "ticks": ""
            },
            "colorscale": [
             [
              0,
              "#0d0887"
             ],
             [
              0.1111111111111111,
              "#46039f"
             ],
             [
              0.2222222222222222,
              "#7201a8"
             ],
             [
              0.3333333333333333,
              "#9c179e"
             ],
             [
              0.4444444444444444,
              "#bd3786"
             ],
             [
              0.5555555555555556,
              "#d8576b"
             ],
             [
              0.6666666666666666,
              "#ed7953"
             ],
             [
              0.7777777777777778,
              "#fb9f3a"
             ],
             [
              0.8888888888888888,
              "#fdca26"
             ],
             [
              1,
              "#f0f921"
             ]
            ],
            "type": "surface"
           }
          ],
          "table": [
           {
            "cells": {
             "fill": {
              "color": "#EBF0F8"
             },
             "line": {
              "color": "white"
             }
            },
            "header": {
             "fill": {
              "color": "#C8D4E3"
             },
             "line": {
              "color": "white"
             }
            },
            "type": "table"
           }
          ]
         },
         "layout": {
          "annotationdefaults": {
           "arrowcolor": "#2a3f5f",
           "arrowhead": 0,
           "arrowwidth": 1
          },
          "autotypenumbers": "strict",
          "coloraxis": {
           "colorbar": {
            "outlinewidth": 0,
            "ticks": ""
           }
          },
          "colorscale": {
           "diverging": [
            [
             0,
             "#8e0152"
            ],
            [
             0.1,
             "#c51b7d"
            ],
            [
             0.2,
             "#de77ae"
            ],
            [
             0.3,
             "#f1b6da"
            ],
            [
             0.4,
             "#fde0ef"
            ],
            [
             0.5,
             "#f7f7f7"
            ],
            [
             0.6,
             "#e6f5d0"
            ],
            [
             0.7,
             "#b8e186"
            ],
            [
             0.8,
             "#7fbc41"
            ],
            [
             0.9,
             "#4d9221"
            ],
            [
             1,
             "#276419"
            ]
           ],
           "sequential": [
            [
             0,
             "#0d0887"
            ],
            [
             0.1111111111111111,
             "#46039f"
            ],
            [
             0.2222222222222222,
             "#7201a8"
            ],
            [
             0.3333333333333333,
             "#9c179e"
            ],
            [
             0.4444444444444444,
             "#bd3786"
            ],
            [
             0.5555555555555556,
             "#d8576b"
            ],
            [
             0.6666666666666666,
             "#ed7953"
            ],
            [
             0.7777777777777778,
             "#fb9f3a"
            ],
            [
             0.8888888888888888,
             "#fdca26"
            ],
            [
             1,
             "#f0f921"
            ]
           ],
           "sequentialminus": [
            [
             0,
             "#0d0887"
            ],
            [
             0.1111111111111111,
             "#46039f"
            ],
            [
             0.2222222222222222,
             "#7201a8"
            ],
            [
             0.3333333333333333,
             "#9c179e"
            ],
            [
             0.4444444444444444,
             "#bd3786"
            ],
            [
             0.5555555555555556,
             "#d8576b"
            ],
            [
             0.6666666666666666,
             "#ed7953"
            ],
            [
             0.7777777777777778,
             "#fb9f3a"
            ],
            [
             0.8888888888888888,
             "#fdca26"
            ],
            [
             1,
             "#f0f921"
            ]
           ]
          },
          "colorway": [
           "#636efa",
           "#EF553B",
           "#00cc96",
           "#ab63fa",
           "#FFA15A",
           "#19d3f3",
           "#FF6692",
           "#B6E880",
           "#FF97FF",
           "#FECB52"
          ],
          "font": {
           "color": "#2a3f5f"
          },
          "geo": {
           "bgcolor": "white",
           "lakecolor": "white",
           "landcolor": "#E5ECF6",
           "showlakes": true,
           "showland": true,
           "subunitcolor": "white"
          },
          "hoverlabel": {
           "align": "left"
          },
          "hovermode": "closest",
          "mapbox": {
           "style": "light"
          },
          "paper_bgcolor": "white",
          "plot_bgcolor": "#E5ECF6",
          "polar": {
           "angularaxis": {
            "gridcolor": "white",
            "linecolor": "white",
            "ticks": ""
           },
           "bgcolor": "#E5ECF6",
           "radialaxis": {
            "gridcolor": "white",
            "linecolor": "white",
            "ticks": ""
           }
          },
          "scene": {
           "xaxis": {
            "backgroundcolor": "#E5ECF6",
            "gridcolor": "white",
            "gridwidth": 2,
            "linecolor": "white",
            "showbackground": true,
            "ticks": "",
            "zerolinecolor": "white"
           },
           "yaxis": {
            "backgroundcolor": "#E5ECF6",
            "gridcolor": "white",
            "gridwidth": 2,
            "linecolor": "white",
            "showbackground": true,
            "ticks": "",
            "zerolinecolor": "white"
           },
           "zaxis": {
            "backgroundcolor": "#E5ECF6",
            "gridcolor": "white",
            "gridwidth": 2,
            "linecolor": "white",
            "showbackground": true,
            "ticks": "",
            "zerolinecolor": "white"
           }
          },
          "shapedefaults": {
           "line": {
            "color": "#2a3f5f"
           }
          },
          "ternary": {
           "aaxis": {
            "gridcolor": "white",
            "linecolor": "white",
            "ticks": ""
           },
           "baxis": {
            "gridcolor": "white",
            "linecolor": "white",
            "ticks": ""
           },
           "bgcolor": "#E5ECF6",
           "caxis": {
            "gridcolor": "white",
            "linecolor": "white",
            "ticks": ""
           }
          },
          "title": {
           "x": 0.05
          },
          "xaxis": {
           "automargin": true,
           "gridcolor": "white",
           "linecolor": "white",
           "ticks": "",
           "title": {
            "standoff": 15
           },
           "zerolinecolor": "white",
           "zerolinewidth": 2
          },
          "yaxis": {
           "automargin": true,
           "gridcolor": "white",
           "linecolor": "white",
           "ticks": "",
           "title": {
            "standoff": 15
           },
           "zerolinecolor": "white",
           "zerolinewidth": 2
          }
         }
        },
        "title": {
         "text": "Prediction Accuracy for Different Penalty Parameters"
        },
        "xaxis": {
         "anchor": "y",
         "domain": [
          0,
          1
         ],
         "title": {
          "text": "Steepness (k)"
         }
        },
        "yaxis": {
         "anchor": "x",
         "domain": [
          0,
          1
         ],
         "title": {
          "text": "Midpoint (m0)"
         }
        }
       }
      },
      "text/html": [
       "<div>                            <div id=\"8c2b1dc9-ba47-46d9-9414-e1c6a951ff39\" class=\"plotly-graph-div\" style=\"height:525px; width:100%;\"></div>            <script type=\"text/javascript\">                require([\"plotly\"], function(Plotly) {                    window.PLOTLYENV=window.PLOTLYENV || {};                                    if (document.getElementById(\"8c2b1dc9-ba47-46d9-9414-e1c6a951ff39\")) {                    Plotly.newPlot(                        \"8c2b1dc9-ba47-46d9-9414-e1c6a951ff39\",                        [{\"hovertemplate\":\"Steepness (k)=%{x}\\u003cbr\\u003eMidpoint (m0)=%{y}\\u003cbr\\u003eAccuracy=%{marker.color}\\u003cextra\\u003e\\u003c\\u002fextra\\u003e\",\"legendgroup\":\"\",\"marker\":{\"color\":[0,0,0,0,0,0,0,0,0,0,0,0,0,0,0,0,0,0,0,0,0,0,0,0,0,0,0,0,0,0,0,0,0,0,0,0,0,0,0,0,0,0,0,0,0,0,0,0,0,0,0,0,0,0,0,0,0,0,0,0,0,0,0,0,0,0,0,0,0,0,0,0,0,0,0,0,0,0,0,0,0,0,0,0,0,0,0,0,0,0,0,0,0,0,0,0,0,0,0,0],\"coloraxis\":\"coloraxis\",\"size\":[0,0,0,0,0,0,0,0,0,0,0,0,0,0,0,0,0,0,0,0,0,0,0,0,0,0,0,0,0,0,0,0,0,0,0,0,0,0,0,0,0,0,0,0,0,0,0,0,0,0,0,0,0,0,0,0,0,0,0,0,0,0,0,0,0,0,0,0,0,0,0,0,0,0,0,0,0,0,0,0,0,0,0,0,0,0,0,0,0,0,0,0,0,0,0,0,0,0,0,0],\"sizemode\":\"area\",\"sizeref\":0.0,\"symbol\":\"circle\"},\"mode\":\"markers\",\"name\":\"\",\"orientation\":\"v\",\"showlegend\":false,\"x\":[1,1,1,1,1,1,1,1,1,1,6,6,6,6,6,6,6,6,6,6,11,11,11,11,11,11,11,11,11,11,16,16,16,16,16,16,16,16,16,16,21,21,21,21,21,21,21,21,21,21,26,26,26,26,26,26,26,26,26,26,31,31,31,31,31,31,31,31,31,31,36,36,36,36,36,36,36,36,36,36,41,41,41,41,41,41,41,41,41,41,46,46,46,46,46,46,46,46,46,46],\"xaxis\":\"x\",\"y\":[0.5,0.55,0.6,0.65,0.7,0.75,0.8,0.85,0.9,0.95,0.5,0.55,0.6,0.65,0.7,0.75,0.8,0.85,0.9,0.95,0.5,0.55,0.6,0.65,0.7,0.75,0.8,0.85,0.9,0.95,0.5,0.55,0.6,0.65,0.7,0.75,0.8,0.85,0.9,0.95,0.5,0.55,0.6,0.65,0.7,0.75,0.8,0.85,0.9,0.95,0.5,0.55,0.6,0.65,0.7,0.75,0.8,0.85,0.9,0.95,0.5,0.55,0.6,0.65,0.7,0.75,0.8,0.85,0.9,0.95,0.5,0.55,0.6,0.65,0.7,0.75,0.8,0.85,0.9,0.95,0.5,0.55,0.6,0.65,0.7,0.75,0.8,0.85,0.9,0.95,0.5,0.55,0.6,0.65,0.7,0.75,0.8,0.85,0.9,0.95],\"yaxis\":\"y\",\"type\":\"scatter\"}],                        {\"template\":{\"data\":{\"histogram2dcontour\":[{\"type\":\"histogram2dcontour\",\"colorbar\":{\"outlinewidth\":0,\"ticks\":\"\"},\"colorscale\":[[0.0,\"#0d0887\"],[0.1111111111111111,\"#46039f\"],[0.2222222222222222,\"#7201a8\"],[0.3333333333333333,\"#9c179e\"],[0.4444444444444444,\"#bd3786\"],[0.5555555555555556,\"#d8576b\"],[0.6666666666666666,\"#ed7953\"],[0.7777777777777778,\"#fb9f3a\"],[0.8888888888888888,\"#fdca26\"],[1.0,\"#f0f921\"]]}],\"choropleth\":[{\"type\":\"choropleth\",\"colorbar\":{\"outlinewidth\":0,\"ticks\":\"\"}}],\"histogram2d\":[{\"type\":\"histogram2d\",\"colorbar\":{\"outlinewidth\":0,\"ticks\":\"\"},\"colorscale\":[[0.0,\"#0d0887\"],[0.1111111111111111,\"#46039f\"],[0.2222222222222222,\"#7201a8\"],[0.3333333333333333,\"#9c179e\"],[0.4444444444444444,\"#bd3786\"],[0.5555555555555556,\"#d8576b\"],[0.6666666666666666,\"#ed7953\"],[0.7777777777777778,\"#fb9f3a\"],[0.8888888888888888,\"#fdca26\"],[1.0,\"#f0f921\"]]}],\"heatmap\":[{\"type\":\"heatmap\",\"colorbar\":{\"outlinewidth\":0,\"ticks\":\"\"},\"colorscale\":[[0.0,\"#0d0887\"],[0.1111111111111111,\"#46039f\"],[0.2222222222222222,\"#7201a8\"],[0.3333333333333333,\"#9c179e\"],[0.4444444444444444,\"#bd3786\"],[0.5555555555555556,\"#d8576b\"],[0.6666666666666666,\"#ed7953\"],[0.7777777777777778,\"#fb9f3a\"],[0.8888888888888888,\"#fdca26\"],[1.0,\"#f0f921\"]]}],\"heatmapgl\":[{\"type\":\"heatmapgl\",\"colorbar\":{\"outlinewidth\":0,\"ticks\":\"\"},\"colorscale\":[[0.0,\"#0d0887\"],[0.1111111111111111,\"#46039f\"],[0.2222222222222222,\"#7201a8\"],[0.3333333333333333,\"#9c179e\"],[0.4444444444444444,\"#bd3786\"],[0.5555555555555556,\"#d8576b\"],[0.6666666666666666,\"#ed7953\"],[0.7777777777777778,\"#fb9f3a\"],[0.8888888888888888,\"#fdca26\"],[1.0,\"#f0f921\"]]}],\"contourcarpet\":[{\"type\":\"contourcarpet\",\"colorbar\":{\"outlinewidth\":0,\"ticks\":\"\"}}],\"contour\":[{\"type\":\"contour\",\"colorbar\":{\"outlinewidth\":0,\"ticks\":\"\"},\"colorscale\":[[0.0,\"#0d0887\"],[0.1111111111111111,\"#46039f\"],[0.2222222222222222,\"#7201a8\"],[0.3333333333333333,\"#9c179e\"],[0.4444444444444444,\"#bd3786\"],[0.5555555555555556,\"#d8576b\"],[0.6666666666666666,\"#ed7953\"],[0.7777777777777778,\"#fb9f3a\"],[0.8888888888888888,\"#fdca26\"],[1.0,\"#f0f921\"]]}],\"surface\":[{\"type\":\"surface\",\"colorbar\":{\"outlinewidth\":0,\"ticks\":\"\"},\"colorscale\":[[0.0,\"#0d0887\"],[0.1111111111111111,\"#46039f\"],[0.2222222222222222,\"#7201a8\"],[0.3333333333333333,\"#9c179e\"],[0.4444444444444444,\"#bd3786\"],[0.5555555555555556,\"#d8576b\"],[0.6666666666666666,\"#ed7953\"],[0.7777777777777778,\"#fb9f3a\"],[0.8888888888888888,\"#fdca26\"],[1.0,\"#f0f921\"]]}],\"mesh3d\":[{\"type\":\"mesh3d\",\"colorbar\":{\"outlinewidth\":0,\"ticks\":\"\"}}],\"scatter\":[{\"fillpattern\":{\"fillmode\":\"overlay\",\"size\":10,\"solidity\":0.2},\"type\":\"scatter\"}],\"parcoords\":[{\"type\":\"parcoords\",\"line\":{\"colorbar\":{\"outlinewidth\":0,\"ticks\":\"\"}}}],\"scatterpolargl\":[{\"type\":\"scatterpolargl\",\"marker\":{\"colorbar\":{\"outlinewidth\":0,\"ticks\":\"\"}}}],\"bar\":[{\"error_x\":{\"color\":\"#2a3f5f\"},\"error_y\":{\"color\":\"#2a3f5f\"},\"marker\":{\"line\":{\"color\":\"#E5ECF6\",\"width\":0.5},\"pattern\":{\"fillmode\":\"overlay\",\"size\":10,\"solidity\":0.2}},\"type\":\"bar\"}],\"scattergeo\":[{\"type\":\"scattergeo\",\"marker\":{\"colorbar\":{\"outlinewidth\":0,\"ticks\":\"\"}}}],\"scatterpolar\":[{\"type\":\"scatterpolar\",\"marker\":{\"colorbar\":{\"outlinewidth\":0,\"ticks\":\"\"}}}],\"histogram\":[{\"marker\":{\"pattern\":{\"fillmode\":\"overlay\",\"size\":10,\"solidity\":0.2}},\"type\":\"histogram\"}],\"scattergl\":[{\"type\":\"scattergl\",\"marker\":{\"colorbar\":{\"outlinewidth\":0,\"ticks\":\"\"}}}],\"scatter3d\":[{\"type\":\"scatter3d\",\"line\":{\"colorbar\":{\"outlinewidth\":0,\"ticks\":\"\"}},\"marker\":{\"colorbar\":{\"outlinewidth\":0,\"ticks\":\"\"}}}],\"scattermapbox\":[{\"type\":\"scattermapbox\",\"marker\":{\"colorbar\":{\"outlinewidth\":0,\"ticks\":\"\"}}}],\"scatterternary\":[{\"type\":\"scatterternary\",\"marker\":{\"colorbar\":{\"outlinewidth\":0,\"ticks\":\"\"}}}],\"scattercarpet\":[{\"type\":\"scattercarpet\",\"marker\":{\"colorbar\":{\"outlinewidth\":0,\"ticks\":\"\"}}}],\"carpet\":[{\"aaxis\":{\"endlinecolor\":\"#2a3f5f\",\"gridcolor\":\"white\",\"linecolor\":\"white\",\"minorgridcolor\":\"white\",\"startlinecolor\":\"#2a3f5f\"},\"baxis\":{\"endlinecolor\":\"#2a3f5f\",\"gridcolor\":\"white\",\"linecolor\":\"white\",\"minorgridcolor\":\"white\",\"startlinecolor\":\"#2a3f5f\"},\"type\":\"carpet\"}],\"table\":[{\"cells\":{\"fill\":{\"color\":\"#EBF0F8\"},\"line\":{\"color\":\"white\"}},\"header\":{\"fill\":{\"color\":\"#C8D4E3\"},\"line\":{\"color\":\"white\"}},\"type\":\"table\"}],\"barpolar\":[{\"marker\":{\"line\":{\"color\":\"#E5ECF6\",\"width\":0.5},\"pattern\":{\"fillmode\":\"overlay\",\"size\":10,\"solidity\":0.2}},\"type\":\"barpolar\"}],\"pie\":[{\"automargin\":true,\"type\":\"pie\"}]},\"layout\":{\"autotypenumbers\":\"strict\",\"colorway\":[\"#636efa\",\"#EF553B\",\"#00cc96\",\"#ab63fa\",\"#FFA15A\",\"#19d3f3\",\"#FF6692\",\"#B6E880\",\"#FF97FF\",\"#FECB52\"],\"font\":{\"color\":\"#2a3f5f\"},\"hovermode\":\"closest\",\"hoverlabel\":{\"align\":\"left\"},\"paper_bgcolor\":\"white\",\"plot_bgcolor\":\"#E5ECF6\",\"polar\":{\"bgcolor\":\"#E5ECF6\",\"angularaxis\":{\"gridcolor\":\"white\",\"linecolor\":\"white\",\"ticks\":\"\"},\"radialaxis\":{\"gridcolor\":\"white\",\"linecolor\":\"white\",\"ticks\":\"\"}},\"ternary\":{\"bgcolor\":\"#E5ECF6\",\"aaxis\":{\"gridcolor\":\"white\",\"linecolor\":\"white\",\"ticks\":\"\"},\"baxis\":{\"gridcolor\":\"white\",\"linecolor\":\"white\",\"ticks\":\"\"},\"caxis\":{\"gridcolor\":\"white\",\"linecolor\":\"white\",\"ticks\":\"\"}},\"coloraxis\":{\"colorbar\":{\"outlinewidth\":0,\"ticks\":\"\"}},\"colorscale\":{\"sequential\":[[0.0,\"#0d0887\"],[0.1111111111111111,\"#46039f\"],[0.2222222222222222,\"#7201a8\"],[0.3333333333333333,\"#9c179e\"],[0.4444444444444444,\"#bd3786\"],[0.5555555555555556,\"#d8576b\"],[0.6666666666666666,\"#ed7953\"],[0.7777777777777778,\"#fb9f3a\"],[0.8888888888888888,\"#fdca26\"],[1.0,\"#f0f921\"]],\"sequentialminus\":[[0.0,\"#0d0887\"],[0.1111111111111111,\"#46039f\"],[0.2222222222222222,\"#7201a8\"],[0.3333333333333333,\"#9c179e\"],[0.4444444444444444,\"#bd3786\"],[0.5555555555555556,\"#d8576b\"],[0.6666666666666666,\"#ed7953\"],[0.7777777777777778,\"#fb9f3a\"],[0.8888888888888888,\"#fdca26\"],[1.0,\"#f0f921\"]],\"diverging\":[[0,\"#8e0152\"],[0.1,\"#c51b7d\"],[0.2,\"#de77ae\"],[0.3,\"#f1b6da\"],[0.4,\"#fde0ef\"],[0.5,\"#f7f7f7\"],[0.6,\"#e6f5d0\"],[0.7,\"#b8e186\"],[0.8,\"#7fbc41\"],[0.9,\"#4d9221\"],[1,\"#276419\"]]},\"xaxis\":{\"gridcolor\":\"white\",\"linecolor\":\"white\",\"ticks\":\"\",\"title\":{\"standoff\":15},\"zerolinecolor\":\"white\",\"automargin\":true,\"zerolinewidth\":2},\"yaxis\":{\"gridcolor\":\"white\",\"linecolor\":\"white\",\"ticks\":\"\",\"title\":{\"standoff\":15},\"zerolinecolor\":\"white\",\"automargin\":true,\"zerolinewidth\":2},\"scene\":{\"xaxis\":{\"backgroundcolor\":\"#E5ECF6\",\"gridcolor\":\"white\",\"linecolor\":\"white\",\"showbackground\":true,\"ticks\":\"\",\"zerolinecolor\":\"white\",\"gridwidth\":2},\"yaxis\":{\"backgroundcolor\":\"#E5ECF6\",\"gridcolor\":\"white\",\"linecolor\":\"white\",\"showbackground\":true,\"ticks\":\"\",\"zerolinecolor\":\"white\",\"gridwidth\":2},\"zaxis\":{\"backgroundcolor\":\"#E5ECF6\",\"gridcolor\":\"white\",\"linecolor\":\"white\",\"showbackground\":true,\"ticks\":\"\",\"zerolinecolor\":\"white\",\"gridwidth\":2}},\"shapedefaults\":{\"line\":{\"color\":\"#2a3f5f\"}},\"annotationdefaults\":{\"arrowcolor\":\"#2a3f5f\",\"arrowhead\":0,\"arrowwidth\":1},\"geo\":{\"bgcolor\":\"white\",\"landcolor\":\"#E5ECF6\",\"subunitcolor\":\"white\",\"showland\":true,\"showlakes\":true,\"lakecolor\":\"white\"},\"title\":{\"x\":0.05},\"mapbox\":{\"style\":\"light\"}}},\"xaxis\":{\"anchor\":\"y\",\"domain\":[0.0,1.0],\"title\":{\"text\":\"Steepness (k)\"}},\"yaxis\":{\"anchor\":\"x\",\"domain\":[0.0,1.0],\"title\":{\"text\":\"Midpoint (m0)\"}},\"coloraxis\":{\"colorbar\":{\"title\":{\"text\":\"Accuracy\"}},\"colorscale\":[[0.0,\"#0d0887\"],[0.1111111111111111,\"#46039f\"],[0.2222222222222222,\"#7201a8\"],[0.3333333333333333,\"#9c179e\"],[0.4444444444444444,\"#bd3786\"],[0.5555555555555556,\"#d8576b\"],[0.6666666666666666,\"#ed7953\"],[0.7777777777777778,\"#fb9f3a\"],[0.8888888888888888,\"#fdca26\"],[1.0,\"#f0f921\"]]},\"legend\":{\"tracegroupgap\":0,\"itemsizing\":\"constant\"},\"title\":{\"text\":\"Prediction Accuracy for Different Penalty Parameters\"}},                        {\"responsive\": true}                    ).then(function(){\n",
       "                            \n",
       "var gd = document.getElementById('8c2b1dc9-ba47-46d9-9414-e1c6a951ff39');\n",
       "var x = new MutationObserver(function (mutations, observer) {{\n",
       "        var display = window.getComputedStyle(gd).display;\n",
       "        if (!display || display === 'none') {{\n",
       "            console.log([gd, 'removed!']);\n",
       "            Plotly.purge(gd);\n",
       "            observer.disconnect();\n",
       "        }}\n",
       "}});\n",
       "\n",
       "// Listen for the removal of the full notebook cells\n",
       "var notebookContainer = gd.closest('#notebook-container');\n",
       "if (notebookContainer) {{\n",
       "    x.observe(notebookContainer, {childList: true});\n",
       "}}\n",
       "\n",
       "// Listen for the clearing of the current output cell\n",
       "var outputEl = gd.closest('.output');\n",
       "if (outputEl) {{\n",
       "    x.observe(outputEl, {childList: true});\n",
       "}}\n",
       "\n",
       "                        })                };                });            </script>        </div>"
      ]
     },
     "metadata": {},
     "output_type": "display_data"
    }
   ],
   "source": [
    "fig = px.scatter(results_df, x=\"k\", y=\"m0\", size=\"accuracy\", color=\"accuracy\",\n",
    "                 title=\"Prediction Accuracy for Different Penalty Parameters\",\n",
    "                 labels={\"k\": \"Steepness (k)\", \"m0\": \"Midpoint (m0)\", \"accuracy\": \"Accuracy\"})\n",
    "fig.show()"
   ]
  },
  {
   "cell_type": "code",
   "execution_count": null,
   "metadata": {},
   "outputs": [
    {
     "ename": "TypeError",
     "evalue": "list indices must be integers or slices, not str",
     "output_type": "error",
     "traceback": [
      "\u001b[0;31m---------------------------------------------------------------------------\u001b[0m",
      "\u001b[0;31mTypeError\u001b[0m                                 Traceback (most recent call last)",
      "Cell \u001b[0;32mIn[52], line 58\u001b[0m\n\u001b[1;32m     55\u001b[0m     fig\u001b[38;5;241m.\u001b[39mshow()\n\u001b[1;32m     57\u001b[0m \u001b[38;5;66;03m# Example usage\u001b[39;00m\n\u001b[0;32m---> 58\u001b[0m \u001b[43mvisualize_results_grid_with_accuracy\u001b[49m\u001b[43m(\u001b[49m\u001b[43mresults_df\u001b[49m\u001b[43m,\u001b[49m\u001b[43m \u001b[49m\u001b[43mk_values\u001b[49m\u001b[43m,\u001b[49m\u001b[43m \u001b[49m\u001b[43mm0_values\u001b[49m\u001b[43m)\u001b[49m\n",
      "Cell \u001b[0;32mIn[52], line 22\u001b[0m, in \u001b[0;36mvisualize_results_grid_with_accuracy\u001b[0;34m(results_df, k_values, m0_values)\u001b[0m\n\u001b[1;32m     19\u001b[0m \u001b[38;5;28;01mfor\u001b[39;00m i, k \u001b[38;5;129;01min\u001b[39;00m \u001b[38;5;28menumerate\u001b[39m(k_values):\n\u001b[1;32m     20\u001b[0m     \u001b[38;5;28;01mfor\u001b[39;00m j, m0 \u001b[38;5;129;01min\u001b[39;00m \u001b[38;5;28menumerate\u001b[39m(m0_values):\n\u001b[1;32m     21\u001b[0m         \u001b[38;5;66;03m# Filter the data for the current combination of k and m0\u001b[39;00m\n\u001b[0;32m---> 22\u001b[0m         subset \u001b[38;5;241m=\u001b[39m results_df[(\u001b[43mresults_df\u001b[49m\u001b[43m[\u001b[49m\u001b[38;5;124;43m\"\u001b[39;49m\u001b[38;5;124;43mk\u001b[39;49m\u001b[38;5;124;43m\"\u001b[39;49m\u001b[43m]\u001b[49m \u001b[38;5;241m==\u001b[39m k) \u001b[38;5;241m&\u001b[39m (results_df[\u001b[38;5;124m\"\u001b[39m\u001b[38;5;124mm0\u001b[39m\u001b[38;5;124m\"\u001b[39m] \u001b[38;5;241m==\u001b[39m m0)]\n\u001b[1;32m     24\u001b[0m         \u001b[38;5;28;01mif\u001b[39;00m \u001b[38;5;129;01mnot\u001b[39;00m subset\u001b[38;5;241m.\u001b[39mempty:\n\u001b[1;32m     25\u001b[0m             \u001b[38;5;66;03m# Compute mean accuracy for this combination\u001b[39;00m\n\u001b[1;32m     26\u001b[0m             mean_accuracy \u001b[38;5;241m=\u001b[39m subset[\u001b[38;5;124m\"\u001b[39m\u001b[38;5;124maccuracy\u001b[39m\u001b[38;5;124m\"\u001b[39m]\u001b[38;5;241m.\u001b[39mmean()\n",
      "\u001b[0;31mTypeError\u001b[0m: list indices must be integers or slices, not str"
     ]
    }
   ],
   "source": [
    "import plotly.graph_objects as go\n",
    "from plotly.subplots import make_subplots\n",
    "\n",
    "# Subplot visualization with accuracy in titles\n",
    "def visualize_results_grid_with_accuracy(results_df, k_values, m0_values):\n",
    "    # Create subplots grid\n",
    "    fig = make_subplots(\n",
    "        rows=len(k_values),\n",
    "        cols=len(m0_values),\n",
    "        shared_xaxes=True,\n",
    "        shared_yaxes=True,\n",
    "        subplot_titles=[\n",
    "            f\"k={k}, m0={m0}\" for k in k_values for m0 in m0_values\n",
    "        ],\n",
    "        vertical_spacing=0.1,\n",
    "        horizontal_spacing=0.05\n",
    "    )\n",
    "\n",
    "    for i, k in enumerate(k_values):\n",
    "        for j, m0 in enumerate(m0_values):\n",
    "            # Filter the data for the current combination of k and m0\n",
    "            subset = results_df[(results_df[\"k\"] == k) & (results_df[\"m0\"] == m0)]\n",
    "\n",
    "            if not subset.empty:\n",
    "                # Compute mean accuracy for this combination\n",
    "                mean_accuracy = subset[\"accuracy\"].mean()\n",
    "                \n",
    "                # Add scatter plot for this combination\n",
    "                fig.add_trace(\n",
    "                    go.Scatter(\n",
    "                        x=subset[\"sample\"],  # Example x-axis (adjust as needed)\n",
    "                        y=subset[\"accuracy\"],  # Example y-axis\n",
    "                        mode=\"lines+markers\",\n",
    "                        name=f\"k={k}, m0={m0}\",\n",
    "                        marker=dict(size=8),\n",
    "                        line=dict(width=2)\n",
    "                    ),\n",
    "                    row=i + 1,\n",
    "                    col=j + 1\n",
    "                )\n",
    "                \n",
    "                # Update subplot title with accuracy\n",
    "                fig.layout.annotations[len(m0_values) * i + j].text = f\"k={k}, m0={m0}<br>Accuracy={mean_accuracy:.2%}\"\n",
    "\n",
    "    # Update layout\n",
    "    fig.update_layout(\n",
    "        height=300 * len(k_values),  # Dynamic height for rows\n",
    "        width=300 * len(m0_values),  # Dynamic width for columns\n",
    "        title_text=\"Prediction Accuracy Across k and m0 Variations\",\n",
    "        showlegend=False\n",
    "    )\n",
    "    fig.update_xaxes(title_text=\"Sample Index\", showgrid=True)\n",
    "    fig.update_yaxes(title_text=\"Accuracy\", range=[0, 1], showgrid=True)\n",
    "\n",
    "    fig.show()\n",
    "\n",
    "# Example usage\n",
    "visualize_results_grid_with_accuracy(results_df, k_values, m0_values)\n"
   ]
  },
  {
   "cell_type": "code",
   "execution_count": 53,
   "metadata": {},
   "outputs": [
    {
     "data": {
      "text/plain": [
       "[{'k': 1, 'm0': 0.5, 'accuracy': 0},\n",
       " {'k': 1, 'm0': 0.55, 'accuracy': 0},\n",
       " {'k': 50, 'm0': 0.5, 'accuracy': 0},\n",
       " {'k': 50, 'm0': 0.55, 'accuracy': 0}]"
      ]
     },
     "execution_count": 53,
     "metadata": {},
     "output_type": "execute_result"
    }
   ],
   "source": [
    "results_df"
   ]
  },
  {
   "cell_type": "code",
   "execution_count": 27,
   "metadata": {},
   "outputs": [],
   "source": [
    "def linear_penalty(missingness, k, m0):\n",
    "    return max(0, k * (missingness - m0))\n",
    "\n",
    "def exponential_penalty(missingness, k, m0):\n",
    "    return np.exp(k * (missingness - m0)) - 1\n",
    "\n",
    "def sigmoid_penalty(missingness, k, m0):\n",
    "    return 1 / (1 + np.exp(-k * (missingness - m0)))\n",
    "\n",
    "def compute_penalty_factor(missingness, k, m0, penalty_type):\n",
    "    if penalty_type == \"linear\":\n",
    "        return linear_penalty(missingness, k, m0)\n",
    "    elif penalty_type == \"exponential\":\n",
    "        return exponential_penalty(missingness, k, m0)\n",
    "    elif penalty_type == \"sigmoid\":\n",
    "        return sigmoid_penalty(missingness, k, m0)\n",
    "    else:\n",
    "        raise ValueError(f\"Unknown penalty type: {penalty_type}\")\n"
   ]
  },
  {
   "cell_type": "code",
   "execution_count": 28,
   "metadata": {},
   "outputs": [],
   "source": [
    "from tqdm import tqdm\n",
    "\n",
    "def predict_and_evaluate(df, k_values, m0_values, tissue_type_map, metadata_to_mlmarker, penalty_types):\n",
    "    results = []\n",
    "\n",
    "    for penalty_type in penalty_types:\n",
    "        print(f\"Testing penalty type: {penalty_type}\")\n",
    "        for k, m0 in product(k_values, m0_values):\n",
    "            print(f\"Started on k = {k}, m0 = {m0}\")\n",
    "            prediction_dict = {}\n",
    "            correct_predictions = 0\n",
    "            total_predictions = 0\n",
    "            correct_predictions_top3 = 0\n",
    "            total_predictions_top3 = 0\n",
    "\n",
    "            for c in tqdm(df.columns[1:15], desc=f\"Samples for k={k}, m0={m0}\"):\n",
    "                # Preprocess data\n",
    "                subset = df[[\"index\", c]].dropna()\n",
    "                scaler = MinMaxScaler()\n",
    "                subset[c] = scaler.fit_transform(subset[[c]])\n",
    "                subset[\"index\"] = subset[\"index\"].apply(lambda x: x.split(\";\")[0])\n",
    "                data = subset.pivot_table(columns=\"index\", values=c, aggfunc=\"sum\").fillna(0)\n",
    "                \n",
    "                # Compute missingness and penalty factor\n",
    "                missingness = (data == 0).mean(axis=1).iloc[0]\n",
    "                penalty_factor = compute_penalty_factor(missingness, k, m0, penalty_type)\n",
    "                \n",
    "                # Run MLMarker prediction\n",
    "                test = MLMarker(data.iloc[0:1, :], binary=False)\n",
    "                prediction = test.explainability.adjusted_absent_shap_values_df(penalty_factor=penalty_factor)\n",
    "                prediction = prediction.sum(axis=1).sort_values(ascending=False)\n",
    "                prediction_dict[c] = prediction\n",
    "                \n",
    "                \n",
    "                # Evaluate prediction\n",
    "                expected_tissue = tissue_type_map.get(c.split(';')[1], None)\n",
    "                if not expected_tissue:\n",
    "                    continue  # Skip if no mapping exists for the column\n",
    "                \n",
    "                mlmarker_tissues = metadata_to_mlmarker.get(expected_tissue, [])\n",
    "                top_prediction = prediction.index[0] if not prediction.empty else None\n",
    "                if top_prediction in mlmarker_tissues:\n",
    "                    correct_predictions += 1\n",
    "                total_predictions += 1\n",
    "\n",
    "                #alsoo look at top 3 of predictions\n",
    "                top3_predictions = prediction.index[:3] if not prediction.empty else None\n",
    "                print(top3_predictions, mlmarker_tissues)\n",
    "                if all(elem in top3_predictions for elem in mlmarker_tissues):\n",
    "                    correct_predictions_top3 += 1\n",
    "                total_predictions_top3 += 1\n",
    "\n",
    "            accuracy = correct_predictions / total_predictions if total_predictions > 0 else 0\n",
    "            accuracy_top3 = correct_predictions_top3 / total_predictions_top3 if total_predictions_top3 > 0 else 0\n",
    "        \n",
    "            print(f\"Accuracy for k={k}, m0={m0}, penalty={penalty_type}: {accuracy:.2f}\")\n",
    "            results.append({\"k\": k, \"m0\": m0, \"penalty_type\": penalty_type, \"accuracy\": accuracy, \"accuracy_top3\": accuracy_top3})\n",
    "    \n",
    "    return pd.DataFrame(results)\n"
   ]
  },
  {
   "cell_type": "code",
   "execution_count": 29,
   "metadata": {},
   "outputs": [],
   "source": [
    "import plotly.express as px\n",
    "\n",
    "def visualize_results(results_df):\n",
    "    fig = px.scatter(\n",
    "        results_df,\n",
    "        x=\"k\",\n",
    "        y=\"m0\",\n",
    "        size=\"accuracy\",\n",
    "        color=\"penalty_type\",\n",
    "        facet_col=\"penalty_type\",\n",
    "        title=\"Accuracy Comparison Across Penalty Types\",\n",
    "        labels={\"k\": \"Steepness (k)\", \"m0\": \"Midpoint (m0)\", \"accuracy\": \"Accuracy\"}\n",
    "    )\n",
    "    fig.show()\n"
   ]
  },
  {
   "cell_type": "code",
   "execution_count": 31,
   "metadata": {},
   "outputs": [
    {
     "name": "stdout",
     "output_type": "stream",
     "text": [
      "Testing penalty type: linear\n",
      "Started on k = 1, m0 = 0.5\n"
     ]
    },
    {
     "name": "stderr",
     "output_type": "stream",
     "text": [
      "Samples for k=1, m0=0.5:   0%|          | 0/14 [00:00<?, ?it/s]"
     ]
    },
    {
     "name": "stdout",
     "output_type": "stream",
     "text": [
      "Features added: 2221, removed: 1527, remaining: 2163\n"
     ]
    },
    {
     "name": "stderr",
     "output_type": "stream",
     "text": [
      "Samples for k=1, m0=0.5:   0%|          | 0/14 [00:01<?, ?it/s]"
     ]
    },
    {
     "name": "stdout",
     "output_type": "stream",
     "text": [
      "Index(['B-cells', 'NK-cells', 'Monocytes'], dtype='object', name='tissue') ['Lymph node']\n"
     ]
    },
    {
     "name": "stderr",
     "output_type": "stream",
     "text": [
      "\n"
     ]
    },
    {
     "ename": "UnboundLocalError",
     "evalue": "local variable 'total_predictions_top3' referenced before assignment",
     "output_type": "error",
     "traceback": [
      "\u001b[0;31m---------------------------------------------------------------------------\u001b[0m",
      "\u001b[0;31mUnboundLocalError\u001b[0m                         Traceback (most recent call last)",
      "Cell \u001b[0;32mIn[31], line 7\u001b[0m\n\u001b[1;32m      3\u001b[0m penalty_types \u001b[38;5;241m=\u001b[39m [\u001b[38;5;124m\"\u001b[39m\u001b[38;5;124mlinear\u001b[39m\u001b[38;5;124m\"\u001b[39m, \u001b[38;5;124m\"\u001b[39m\u001b[38;5;124mexponential\u001b[39m\u001b[38;5;124m\"\u001b[39m, \u001b[38;5;124m\"\u001b[39m\u001b[38;5;124msigmoid\u001b[39m\u001b[38;5;124m\"\u001b[39m]\n\u001b[1;32m      4\u001b[0m \u001b[38;5;66;03m# # Visualize sigmoid curves\u001b[39;00m\n\u001b[1;32m      5\u001b[0m \u001b[38;5;66;03m# visualize_sigmoid_curves(k_values, m0_values)\u001b[39;00m\n\u001b[0;32m----> 7\u001b[0m results_df \u001b[38;5;241m=\u001b[39m \u001b[43mpredict_and_evaluate\u001b[49m\u001b[43m(\u001b[49m\u001b[43mdf_matched\u001b[49m\u001b[43m,\u001b[49m\u001b[43m \u001b[49m\u001b[43mk_values\u001b[49m\u001b[43m,\u001b[49m\u001b[43m \u001b[49m\u001b[43mm0_values\u001b[49m\u001b[43m,\u001b[49m\u001b[43m \u001b[49m\u001b[43mtissue_type_map\u001b[49m\u001b[43m,\u001b[49m\u001b[43m \u001b[49m\u001b[43mmetadata_to_mlmarker\u001b[49m\u001b[43m,\u001b[49m\u001b[43m \u001b[49m\u001b[43mpenalty_types\u001b[49m\u001b[43m)\u001b[49m\n",
      "Cell \u001b[0;32mIn[28], line 49\u001b[0m, in \u001b[0;36mpredict_and_evaluate\u001b[0;34m(df, k_values, m0_values, tissue_type_map, metadata_to_mlmarker, penalty_types)\u001b[0m\n\u001b[1;32m     47\u001b[0m     \u001b[38;5;28;01mif\u001b[39;00m \u001b[38;5;28mall\u001b[39m(elem \u001b[38;5;129;01min\u001b[39;00m top3_predictions \u001b[38;5;28;01mfor\u001b[39;00m elem \u001b[38;5;129;01min\u001b[39;00m mlmarker_tissues):\n\u001b[1;32m     48\u001b[0m         correct_predictions_top3 \u001b[38;5;241m+\u001b[39m\u001b[38;5;241m=\u001b[39m \u001b[38;5;241m1\u001b[39m\n\u001b[0;32m---> 49\u001b[0m     total_predictions_top3 \u001b[38;5;241m+\u001b[39m\u001b[38;5;241m=\u001b[39m \u001b[38;5;241m1\u001b[39m\n\u001b[1;32m     51\u001b[0m accuracy \u001b[38;5;241m=\u001b[39m correct_predictions \u001b[38;5;241m/\u001b[39m total_predictions \u001b[38;5;28;01mif\u001b[39;00m total_predictions \u001b[38;5;241m>\u001b[39m \u001b[38;5;241m0\u001b[39m \u001b[38;5;28;01melse\u001b[39;00m \u001b[38;5;241m0\u001b[39m\n\u001b[1;32m     52\u001b[0m accuracy_top3 \u001b[38;5;241m=\u001b[39m correct_predictions_top3 \u001b[38;5;241m/\u001b[39m total_predictions_top3 \u001b[38;5;28;01mif\u001b[39;00m total_predictions_top3 \u001b[38;5;241m>\u001b[39m \u001b[38;5;241m0\u001b[39m \u001b[38;5;28;01melse\u001b[39;00m \u001b[38;5;241m0\u001b[39m\n",
      "\u001b[0;31mUnboundLocalError\u001b[0m: local variable 'total_predictions_top3' referenced before assignment"
     ]
    }
   ],
   "source": [
    "k_values = range(1,50,5) #steepness\n",
    "m0_values = [0.5, 0.55, 0.6, 0.65, 0.7, 0.75, 0.8, 0.85, 0.9, 0.95] #midpoint\n",
    "penalty_types = [\"linear\", \"exponential\", \"sigmoid\"]\n",
    "# # Visualize sigmoid curves\n",
    "# visualize_sigmoid_curves(k_values, m0_values)\n",
    "\n",
    "results_df = predict_and_evaluate(df_matched, k_values, m0_values, tissue_type_map, metadata_to_mlmarker, penalty_types)"
   ]
  },
  {
   "cell_type": "markdown",
   "metadata": {},
   "source": [
    "# Match prediction to feature space"
   ]
  },
  {
   "cell_type": "code",
   "execution_count": 21,
   "metadata": {},
   "outputs": [],
   "source": [
    "features_path = \"/home/compomics/git/MLMarker/mlmarker/models/features_TP_full_92%_10exp_2024.txt\"   \n",
    "with open(features_path, 'r') as features_file:\n",
    "    MLMarker_features = features_file.read().split(',\\n')"
   ]
  },
  {
   "cell_type": "code",
   "execution_count": 22,
   "metadata": {},
   "outputs": [],
   "source": [
    "sample_amount = {}\n",
    "for i in df.columns:\n",
    "    sample_amount[i] = len((df[i].dropna().index.str.split(';').str[0]).intersection(MLMarker_features))  "
   ]
  },
  {
   "cell_type": "code",
   "execution_count": 24,
   "metadata": {},
   "outputs": [
    {
     "name": "stderr",
     "output_type": "stream",
     "text": [
      "/tmp/ipykernel_66919/3367598466.py:6: SettingWithCopyWarning:\n",
      "\n",
      "\n",
      "A value is trying to be set on a copy of a slice from a DataFrame\n",
      "\n",
      "See the caveats in the documentation: https://pandas.pydata.org/pandas-docs/stable/user_guide/indexing.html#returning-a-view-versus-a-copy\n",
      "\n",
      "/tmp/ipykernel_66919/3367598466.py:10: SettingWithCopyWarning:\n",
      "\n",
      "\n",
      "A value is trying to be set on a copy of a slice from a DataFrame.\n",
      "Try using .loc[row_indexer,col_indexer] = value instead\n",
      "\n",
      "See the caveats in the documentation: https://pandas.pydata.org/pandas-docs/stable/user_guide/indexing.html#returning-a-view-versus-a-copy\n",
      "\n",
      "/tmp/ipykernel_66919/3367598466.py:11: SettingWithCopyWarning:\n",
      "\n",
      "\n",
      "A value is trying to be set on a copy of a slice from a DataFrame.\n",
      "Try using .loc[row_indexer,col_indexer] = value instead\n",
      "\n",
      "See the caveats in the documentation: https://pandas.pydata.org/pandas-docs/stable/user_guide/indexing.html#returning-a-view-versus-a-copy\n",
      "\n",
      "/home/compomics/miniconda3/envs/mlmarker/lib/python3.9/site-packages/sklearn/base.py:329: UserWarning:\n",
      "\n",
      "Trying to unpickle estimator DecisionTreeClassifier from version 1.5.1 when using version 1.1.3. This might lead to breaking code or invalid results. Use at your own risk. For more info please refer to:\n",
      "https://scikit-learn.org/stable/model_persistence.html#security-maintainability-limitations\n",
      "\n"
     ]
    },
    {
     "ename": "KeyError",
     "evalue": "0",
     "output_type": "error",
     "traceback": [
      "\u001b[0;31m---------------------------------------------------------------------------\u001b[0m",
      "\u001b[0;31mKeyError\u001b[0m                                  Traceback (most recent call last)",
      "Cell \u001b[0;32mIn[24], line 14\u001b[0m\n\u001b[1;32m     12\u001b[0m data \u001b[38;5;241m=\u001b[39m subset\u001b[38;5;241m.\u001b[39mpivot_table(columns\u001b[38;5;241m=\u001b[39m\u001b[38;5;124m'\u001b[39m\u001b[38;5;124mindex\u001b[39m\u001b[38;5;124m'\u001b[39m, values\u001b[38;5;241m=\u001b[39mc, aggfunc\u001b[38;5;241m=\u001b[39m\u001b[38;5;124m'\u001b[39m\u001b[38;5;124msum\u001b[39m\u001b[38;5;124m'\u001b[39m)\n\u001b[1;32m     13\u001b[0m data \u001b[38;5;241m=\u001b[39m data\u001b[38;5;241m.\u001b[39mfillna(\u001b[38;5;241m0\u001b[39m)\n\u001b[0;32m---> 14\u001b[0m test \u001b[38;5;241m=\u001b[39m \u001b[43mMLMarker\u001b[49m\u001b[43m(\u001b[49m\u001b[43mdata\u001b[49m\u001b[38;5;241;43m.\u001b[39;49m\u001b[43miloc\u001b[49m\u001b[43m[\u001b[49m\u001b[38;5;241;43m0\u001b[39;49m\u001b[43m:\u001b[49m\u001b[38;5;241;43m1\u001b[39;49m\u001b[43m,\u001b[49m\u001b[43m:\u001b[49m\u001b[43m]\u001b[49m\u001b[43m,\u001b[49m\u001b[43m \u001b[49m\u001b[43mbinary\u001b[49m\u001b[43m \u001b[49m\u001b[38;5;241;43m=\u001b[39;49m\u001b[43m \u001b[49m\u001b[38;5;28;43;01mFalse\u001b[39;49;00m\u001b[43m)\u001b[49m\n\u001b[1;32m     15\u001b[0m prediction \u001b[38;5;241m=\u001b[39m test\u001b[38;5;241m.\u001b[39mexplainability\u001b[38;5;241m.\u001b[39madjusted_absent_shap_values_df(penalty_factor\u001b[38;5;241m=\u001b[39m\u001b[38;5;241m1.2\u001b[39m)\n\u001b[1;32m     16\u001b[0m prediction \u001b[38;5;241m=\u001b[39m prediction\u001b[38;5;241m.\u001b[39msum(axis\u001b[38;5;241m=\u001b[39m\u001b[38;5;241m1\u001b[39m)\u001b[38;5;241m.\u001b[39msort_values(ascending\u001b[38;5;241m=\u001b[39m\u001b[38;5;28;01mFalse\u001b[39;00m)\n",
      "File \u001b[0;32m~/miniconda3/envs/mlmarker/lib/python3.9/site-packages/mlmarker/model.py:15\u001b[0m, in \u001b[0;36mMLMarker.__init__\u001b[0;34m(self, sample_df, binary, explainer)\u001b[0m\n\u001b[1;32m     13\u001b[0m \u001b[38;5;28mself\u001b[39m\u001b[38;5;241m.\u001b[39mmodel_path \u001b[38;5;241m=\u001b[39m BINARY_MODEL_PATH \u001b[38;5;28;01mif\u001b[39;00m binary \u001b[38;5;28;01melse\u001b[39;00m MULTI_CLASS_MODEL_PATH\n\u001b[1;32m     14\u001b[0m \u001b[38;5;28mself\u001b[39m\u001b[38;5;241m.\u001b[39mfeatures_path \u001b[38;5;241m=\u001b[39m BINARY_FEATURES_PATH \u001b[38;5;28;01mif\u001b[39;00m binary \u001b[38;5;28;01melse\u001b[39;00m MULTI_CLASS_FEATURES_PATH\n\u001b[0;32m---> 15\u001b[0m \u001b[38;5;28mself\u001b[39m\u001b[38;5;241m.\u001b[39mmodel, \u001b[38;5;28mself\u001b[39m\u001b[38;5;241m.\u001b[39mfeatures \u001b[38;5;241m=\u001b[39m \u001b[43mload_model_and_features\u001b[49m\u001b[43m(\u001b[49m\n\u001b[1;32m     16\u001b[0m \u001b[43m    \u001b[49m\u001b[38;5;28;43mself\u001b[39;49m\u001b[38;5;241;43m.\u001b[39;49m\u001b[43mmodel_path\u001b[49m\u001b[43m,\u001b[49m\u001b[43m \u001b[49m\u001b[38;5;28;43mself\u001b[39;49m\u001b[38;5;241;43m.\u001b[39;49m\u001b[43mfeatures_path\u001b[49m\n\u001b[1;32m     17\u001b[0m \u001b[43m\u001b[49m\u001b[43m)\u001b[49m\n\u001b[1;32m     18\u001b[0m \u001b[38;5;28mself\u001b[39m\u001b[38;5;241m.\u001b[39msample \u001b[38;5;241m=\u001b[39m validate_sample(sample_df, \u001b[38;5;28mself\u001b[39m\u001b[38;5;241m.\u001b[39mfeatures)\n\u001b[1;32m     19\u001b[0m \u001b[38;5;28mself\u001b[39m\u001b[38;5;241m.\u001b[39mexplainability \u001b[38;5;241m=\u001b[39m Explainability(\u001b[38;5;28mself\u001b[39m\u001b[38;5;241m.\u001b[39mmodel, \u001b[38;5;28mself\u001b[39m\u001b[38;5;241m.\u001b[39mfeatures, \u001b[38;5;28mself\u001b[39m\u001b[38;5;241m.\u001b[39msample, explainer\u001b[38;5;241m=\u001b[39mexplainer)\n",
      "File \u001b[0;32m~/miniconda3/envs/mlmarker/lib/python3.9/site-packages/mlmarker/utils.py:33\u001b[0m, in \u001b[0;36mload_model_and_features\u001b[0;34m(model_path, features_path)\u001b[0m\n\u001b[1;32m     29\u001b[0m \u001b[38;5;28;01mdef\u001b[39;00m \u001b[38;5;21mload_model_and_features\u001b[39m(model_path: \u001b[38;5;28mstr\u001b[39m, features_path: \u001b[38;5;28mstr\u001b[39m):\n\u001b[1;32m     30\u001b[0m \u001b[38;5;250m    \u001b[39m\u001b[38;5;124;03m\"\"\"\u001b[39;00m\n\u001b[1;32m     31\u001b[0m \u001b[38;5;124;03m    Load the model and features list.\u001b[39;00m\n\u001b[1;32m     32\u001b[0m \u001b[38;5;124;03m    \"\"\"\u001b[39;00m\n\u001b[0;32m---> 33\u001b[0m     model \u001b[38;5;241m=\u001b[39m \u001b[43mjoblib\u001b[49m\u001b[38;5;241;43m.\u001b[39;49m\u001b[43mload\u001b[49m\u001b[43m(\u001b[49m\u001b[43mmodel_path\u001b[49m\u001b[43m)\u001b[49m\n\u001b[1;32m     34\u001b[0m     \u001b[38;5;28;01mwith\u001b[39;00m \u001b[38;5;28mopen\u001b[39m(features_path, \u001b[38;5;124m\"\u001b[39m\u001b[38;5;124mr\u001b[39m\u001b[38;5;124m\"\u001b[39m) \u001b[38;5;28;01mas\u001b[39;00m f:\n\u001b[1;32m     35\u001b[0m         features \u001b[38;5;241m=\u001b[39m f\u001b[38;5;241m.\u001b[39mread()\u001b[38;5;241m.\u001b[39mstrip()\u001b[38;5;241m.\u001b[39msplit(\u001b[38;5;124m\"\u001b[39m\u001b[38;5;124m,\u001b[39m\u001b[38;5;130;01m\\n\u001b[39;00m\u001b[38;5;124m\"\u001b[39m)\n",
      "File \u001b[0;32m~/miniconda3/envs/mlmarker/lib/python3.9/site-packages/joblib/numpy_pickle.py:587\u001b[0m, in \u001b[0;36mload\u001b[0;34m(filename, mmap_mode)\u001b[0m\n\u001b[1;32m    581\u001b[0m             \u001b[38;5;28;01mif\u001b[39;00m \u001b[38;5;28misinstance\u001b[39m(fobj, \u001b[38;5;28mstr\u001b[39m):\n\u001b[1;32m    582\u001b[0m                 \u001b[38;5;66;03m# if the returned file object is a string, this means we\u001b[39;00m\n\u001b[1;32m    583\u001b[0m                 \u001b[38;5;66;03m# try to load a pickle file generated with an version of\u001b[39;00m\n\u001b[1;32m    584\u001b[0m                 \u001b[38;5;66;03m# Joblib so we load it with joblib compatibility function.\u001b[39;00m\n\u001b[1;32m    585\u001b[0m                 \u001b[38;5;28;01mreturn\u001b[39;00m load_compatibility(fobj)\n\u001b[0;32m--> 587\u001b[0m             obj \u001b[38;5;241m=\u001b[39m \u001b[43m_unpickle\u001b[49m\u001b[43m(\u001b[49m\u001b[43mfobj\u001b[49m\u001b[43m,\u001b[49m\u001b[43m \u001b[49m\u001b[43mfilename\u001b[49m\u001b[43m,\u001b[49m\u001b[43m \u001b[49m\u001b[43mmmap_mode\u001b[49m\u001b[43m)\u001b[49m\n\u001b[1;32m    588\u001b[0m \u001b[38;5;28;01mreturn\u001b[39;00m obj\n",
      "File \u001b[0;32m~/miniconda3/envs/mlmarker/lib/python3.9/site-packages/joblib/numpy_pickle.py:506\u001b[0m, in \u001b[0;36m_unpickle\u001b[0;34m(fobj, filename, mmap_mode)\u001b[0m\n\u001b[1;32m    504\u001b[0m obj \u001b[38;5;241m=\u001b[39m \u001b[38;5;28;01mNone\u001b[39;00m\n\u001b[1;32m    505\u001b[0m \u001b[38;5;28;01mtry\u001b[39;00m:\n\u001b[0;32m--> 506\u001b[0m     obj \u001b[38;5;241m=\u001b[39m \u001b[43munpickler\u001b[49m\u001b[38;5;241;43m.\u001b[39;49m\u001b[43mload\u001b[49m\u001b[43m(\u001b[49m\u001b[43m)\u001b[49m\n\u001b[1;32m    507\u001b[0m     \u001b[38;5;28;01mif\u001b[39;00m unpickler\u001b[38;5;241m.\u001b[39mcompat_mode:\n\u001b[1;32m    508\u001b[0m         warnings\u001b[38;5;241m.\u001b[39mwarn(\u001b[38;5;124m\"\u001b[39m\u001b[38;5;124mThe file \u001b[39m\u001b[38;5;124m'\u001b[39m\u001b[38;5;132;01m%s\u001b[39;00m\u001b[38;5;124m'\u001b[39m\u001b[38;5;124m has been generated with a \u001b[39m\u001b[38;5;124m\"\u001b[39m\n\u001b[1;32m    509\u001b[0m                       \u001b[38;5;124m\"\u001b[39m\u001b[38;5;124mjoblib version less than 0.10. \u001b[39m\u001b[38;5;124m\"\u001b[39m\n\u001b[1;32m    510\u001b[0m                       \u001b[38;5;124m\"\u001b[39m\u001b[38;5;124mPlease regenerate this pickle file.\u001b[39m\u001b[38;5;124m\"\u001b[39m\n\u001b[1;32m    511\u001b[0m                       \u001b[38;5;241m%\u001b[39m filename,\n\u001b[1;32m    512\u001b[0m                       \u001b[38;5;167;01mDeprecationWarning\u001b[39;00m, stacklevel\u001b[38;5;241m=\u001b[39m\u001b[38;5;241m3\u001b[39m)\n",
      "File \u001b[0;32m~/miniconda3/envs/mlmarker/lib/python3.9/pickle.py:1212\u001b[0m, in \u001b[0;36m_Unpickler.load\u001b[0;34m(self)\u001b[0m\n\u001b[1;32m   1210\u001b[0m             \u001b[38;5;28;01mraise\u001b[39;00m \u001b[38;5;167;01mEOFError\u001b[39;00m\n\u001b[1;32m   1211\u001b[0m         \u001b[38;5;28;01massert\u001b[39;00m \u001b[38;5;28misinstance\u001b[39m(key, bytes_types)\n\u001b[0;32m-> 1212\u001b[0m         \u001b[43mdispatch\u001b[49m\u001b[43m[\u001b[49m\u001b[43mkey\u001b[49m\u001b[43m[\u001b[49m\u001b[38;5;241;43m0\u001b[39;49m\u001b[43m]\u001b[49m\u001b[43m]\u001b[49m(\u001b[38;5;28mself\u001b[39m)\n\u001b[1;32m   1213\u001b[0m \u001b[38;5;28;01mexcept\u001b[39;00m _Stop \u001b[38;5;28;01mas\u001b[39;00m stopinst:\n\u001b[1;32m   1214\u001b[0m     \u001b[38;5;28;01mreturn\u001b[39;00m stopinst\u001b[38;5;241m.\u001b[39mvalue\n",
      "\u001b[0;31mKeyError\u001b[0m: 0"
     ]
    }
   ],
   "source": [
    "prediction_dict = {}  \n",
    "df.reset_index(inplace=True)\n",
    "#get the columns: \"Protein.Ids\", \"\tTU014944PAP_Slot1-12_1_3201.d\tTU014945PAP_Slot1-\"\n",
    "for c in df.columns[1:]:\n",
    "    subset = df[[\"index\", c]]\n",
    "    subset.dropna(inplace=True)\n",
    "    #minmax scale the data in column c\n",
    "    from sklearn.preprocessing import MinMaxScaler\n",
    "    scaler = MinMaxScaler()\n",
    "    subset[c] = scaler.fit_transform(subset[[c]])\n",
    "    subset[\"index\"] = subset[\"index\"].apply(lambda x: x.split(\";\")[0])\n",
    "    data = subset.pivot_table(columns='index', values=c, aggfunc='sum')\n",
    "    data = data.fillna(0)\n",
    "    test = MLMarker(data.iloc[0:1,:], binary = False)\n",
    "    prediction = test.explainability.adjusted_absent_shap_values_df(penalty_factor=1.2)\n",
    "    prediction = prediction.sum(axis=1).sort_values(ascending=False)\n",
    "    prediction_dict[c] = prediction "
   ]
  },
  {
   "cell_type": "code",
   "execution_count": null,
   "metadata": {},
   "outputs": [],
   "source": [
    "prediction_df = pd.DataFrame(prediction_dict).fillna(0)\n",
    "prediction_df.head()"
   ]
  },
  {
   "cell_type": "code",
   "execution_count": null,
   "metadata": {},
   "outputs": [],
   "source": [
    "# prediction_df = pd.DataFrame(prediction_dict).fillna(0)\n",
    "# prediction_df.to_csv('Cellline_predictions_normalized.csv')\n",
    "prediction_df =  pd.read_csv('Cellline_predictions_normalized.csv', index_col=0)\n",
    "prediction_df.head()"
   ]
  },
  {
   "cell_type": "code",
   "execution_count": null,
   "metadata": {},
   "outputs": [],
   "source": [
    "#replace all negative values with zero\n",
    "prediction_df[prediction_df < 0] = 0"
   ]
  },
  {
   "cell_type": "code",
   "execution_count": null,
   "metadata": {},
   "outputs": [],
   "source": [
    "sns.clustermap(prediction_df, cmap='crest', xticklabels=False)"
   ]
  },
  {
   "cell_type": "code",
   "execution_count": null,
   "metadata": {},
   "outputs": [],
   "source": [
    "prediction_df.loc['sample_amount'] = prediction_df.columns.map(sample_amount)\n",
    "selected_tissues = ['Parotid gland', 'Brain', 'Pituitary gland', 'NK-cells', 'Liver', 'sample_amount']\n",
    "\n",
    "selection = prediction_df[prediction_df.index.isin(selected_tissues)].T\n",
    "\n",
    "# make four subplots\n",
    "fig, axs = plt.subplots(3, 2, figsize=(10, 15))\n",
    "\n",
    "for i, tissue in enumerate(selected_tissues):\n",
    "    row = i // 2\n",
    "    col = i % 2\n",
    "    ax = axs[row, col]\n",
    "    sns.regplot(x='sample_amount', y=tissue, data=selection, ax=ax, ci=None, scatter_kws={\"color\": \"grey\"}, line_kws={\"color\": \"darkblue\"})\n",
    "    ax.set_xlabel('sample_amount')\n",
    "    ax.set_ylabel(tissue)\n",
    "    ax.set_ylim(bottom=-0.0005)  # Set the lower limit of the y-axis to zero\n",
    "    ax.set_title(f'Number of Proteins vs {tissue}')\n",
    "\n",
    "plt.tight_layout()\n",
    "plt.show()\n"
   ]
  },
  {
   "cell_type": "code",
   "execution_count": null,
   "metadata": {},
   "outputs": [],
   "source": [
    "metadata = pd.read_excel('metadata.xlsx', sheet_name = 'Cell line level sample info', skiprows=1)\n",
    "#where metadata.Tissue_type is 'Haematopietic and Lymphoid', replace with the content from Haem_lineage column except if that is NaN\n",
    "metadata['Tissue_type'] = metadata.apply(lambda x: x['Haem_lineage'] if x['Tissue_type'] == 'Haematopoietic and Lymphoid' else x['Tissue_type'], axis=1)\n",
    "\n",
    "tissue_type_map = metadata.set_index('Cell_line')[['Tissue_type']].to_dict()['Tissue_type']\n",
    "x = prediction_df.T.reset_index().rename(columns={'index': 'Project_Identifier'}).set_index('Project_Identifier')\n",
    "df_prediction_full = x.merge(metadata, left_index=True, right_on='Project_Identifier')\n",
    "df_prediction_full.set_index('Tissue_type', inplace=True)"
   ]
  },
  {
   "cell_type": "code",
   "execution_count": null,
   "metadata": {},
   "outputs": [],
   "source": [
    "metadata.head()"
   ]
  },
  {
   "cell_type": "code",
   "execution_count": null,
   "metadata": {},
   "outputs": [],
   "source": [
    "legend_labels"
   ]
  },
  {
   "cell_type": "code",
   "execution_count": null,
   "metadata": {},
   "outputs": [],
   "source": [
    "import umap\n",
    "import matplotlib.pyplot as plt\n",
    "from sklearn.decomposition import PCA\n",
    "from matplotlib.colors import ListedColormap\n",
    "import seaborn as sns\n",
    "import matplotlib.patches as mpatches\n",
    "\n",
    "# Perform PCA with 35 components\n",
    "pca = PCA(n_components=35)\n",
    "pca_components = pca.fit_transform(df_prediction_full.iloc[:, :35])\n",
    "\n",
    "# Apply UMAP on the PCA components\n",
    "reducer = umap.UMAP()\n",
    "embedding = reducer.fit_transform(pca_components)\n",
    "# Create a distinct color palette with 35 colors\n",
    "palette = sns.color_palette(\"tab20\", 20) + sns.color_palette(\"tab20b\", 15)  # Combine palettes for 35 colors\n",
    "cmap = ListedColormap(palette)\n",
    "\n",
    "\n",
    "# Create scatter plot\n",
    "unique_classes = df_prediction_full.index.unique()\n",
    "color_mapping = {cls: i for i, cls in enumerate(unique_classes)}\n",
    "colors = df_prediction_full.index.map(color_mapping).astype(int)\n",
    "scatter = plt.scatter(embedding[:, 0], embedding[:, 1], c=colors, cmap=cmap)\n",
    "\n",
    "# Add legend\n",
    "legend_handles = [\n",
    "    mpatches.Patch(color=palette[i], label=cls) for i, cls in enumerate(unique_classes)\n",
    "]\n",
    "plt.legend(\n",
    "    handles=legend_handles,\n",
    "    bbox_to_anchor=(1.05, 1),\n",
    "    loc=\"upper left\",\n",
    "    title=\"Classes\"\n",
    ")\n",
    "\n",
    "# Show plot\n",
    "plt.show()\n"
   ]
  },
  {
   "cell_type": "markdown",
   "metadata": {},
   "source": []
  },
  {
   "cell_type": "markdown",
   "metadata": {},
   "source": [
    "Is there a match btw Tissue_type and predicted tissue?"
   ]
  },
  {
   "cell_type": "code",
   "execution_count": null,
   "metadata": {},
   "outputs": [],
   "source": [
    "metadata_to_mlmarker = {\n",
    "    'Haematopoietic and Lymphoid': ['Lymph node', 'T-cells', 'B-cells', 'NK-cells'],\n",
    "    'Lung': [],  # No exact match, left empty\n",
    "    'Stomach': ['Colon', 'Small intestine'],\n",
    "    'Breast': [],  # No match in MLMarker_list\n",
    "    'Bone': [],  # No match in MLMarker_list\n",
    "    'Ovary': ['Ovary'],\n",
    "    'Skin': [],  # No match in MLMarker_list\n",
    "    'Head and Neck': ['Parotid gland'],\n",
    "    'Endometrium': [],  # No match in MLMarker_list\n",
    "    'Adrenal Gland': ['Adrenal gland'],\n",
    "    'Central Nervous System': ['Brain'],\n",
    "    'Pancreas': [],  # No match in MLMarker_list\n",
    "    'Prostate': ['Prostate'],\n",
    "    'Peripheral Nervous System': ['Brain'],\n",
    "    'Other tissue': [],  # Generic, no direct mapping\n",
    "    'Large Intestine': ['Colon', \"Small intestine\"],\n",
    "    'Cervix': [],  # No match in MLMarker_list\n",
    "    'Kidney': [],  # No match in MLMarker_list\n",
    "    'Liver': ['Liver'],\n",
    "    'Soft Tissue': ['Adipose tissue'],\n",
    "    'Biliary Tract': ['Gall bladder'],\n",
    "    'Bladder': ['Urinary bladder'],\n",
    "    'Esophagus': ['Esophagus'],\n",
    "    'Testis': ['Testis'],\n",
    "    'Thyroid': [],  # No match in MLMarker_list\n",
    "    'Vulva': [],  # No match in MLMarker_list\n",
    "    'Small Intestine': ['Small intestine', \"Colon\"],\n",
    "    'Placenta': ['Placenta'], \n",
    "    'B lymphoid': ['B-cells'], 'Myeloid' : ['Lymph node'],'T lymphoid':['T-cells'], 'NK lymphoid': ['NK-cells']\n",
    "}\n",
    "\n",
    "haem_lineage_to_mlmarker = {}"
   ]
  },
  {
   "cell_type": "code",
   "execution_count": null,
   "metadata": {},
   "outputs": [],
   "source": [
    "def check_top_n(row, n):\n",
    "    tissue_type = row['Tissue_type']\n",
    "    mlmarker_tissues = metadata_to_mlmarker.get(tissue_type, [])\n",
    "    \n",
    "    # Handle case where mlmarker_tissues is an empty list\n",
    "    if not mlmarker_tissues:\n",
    "        return \"no match\"\n",
    "    \n",
    "    # Drop columns that are not prediction scores\n",
    "    if n > 2:\n",
    "        to_drop = ['Tissue_type', 'In_Top_1']\n",
    "    else:\n",
    "        to_drop = ['Tissue_type']\n",
    "\n",
    "    # Get top N tissues by prediction score\n",
    "    top_n_tissues = row.drop(to_drop).apply(pd.to_numeric, errors='coerce').nlargest(n).index.tolist()\n",
    "    \n",
    "    # Check if any expected tissue is in the top N\n",
    "    return any(tissue in top_n_tissues for tissue in mlmarker_tissues)\n",
    "\n",
    "# Process the subset of the DataFrame\n",
    "subset = df_prediction_full.iloc[:, :35]\n",
    "subset.reset_index(inplace=True)\n",
    "\n",
    "# Apply the modified function to the DataFrame\n",
    "subset['In_Top_1'] = subset.apply(lambda row: check_top_n(row, 1), axis=1)\n",
    "subset['In_Top_3'] = subset.apply(lambda row: check_top_n(row, 3), axis=1)\n"
   ]
  },
  {
   "cell_type": "code",
   "execution_count": null,
   "metadata": {},
   "outputs": [],
   "source": [
    "print(subset['In_Top_1'].value_counts())\n",
    "print(subset['In_Top_3'].value_counts())\n"
   ]
  },
  {
   "cell_type": "code",
   "execution_count": null,
   "metadata": {},
   "outputs": [],
   "source": [
    "# Create a DataFrame with Tissue_type as index\n",
    "top3_true_counts = subset[subset['In_Top_3'] == True]['Tissue_type'].value_counts()\n",
    "top3_false_counts = subset[subset['In_Top_3'] == False]['Tissue_type'].value_counts()\n",
    "\n",
    "df_counts = pd.DataFrame({'Top 3 True': top3_true_counts, 'Top 3 False': top3_false_counts})\n",
    "df_counts.index.name = 'Tissue_type'\n",
    "\n",
    "df_counts['Total'] = subset['Tissue_type'].value_counts()\n",
    "df_counts['%True'] = df_counts['Top 3 True'] / df_counts['Total']*100\n",
    "df_counts['%False'] = df_counts['Top 3 False'] / df_counts['Total']*100\n",
    "\n",
    "df_counts.fillna(0, inplace=True)\n",
    "df_counts"
   ]
  },
  {
   "cell_type": "code",
   "execution_count": null,
   "metadata": {},
   "outputs": [],
   "source": [
    "#grouped barplot of df_counts, per tissue one bar with True, one bar with False\n",
    "df_counts[['%True', '%False']].plot(kind='bar', stacked=True, figsize=(10, 6), color=['seagreen', 'lightgrey'])\n"
   ]
  },
  {
   "cell_type": "markdown",
   "metadata": {},
   "source": [
    "Two study cases: Brain and Liver, which proteins are responsible for its classification errors?"
   ]
  },
  {
   "cell_type": "code",
   "execution_count": null,
   "metadata": {},
   "outputs": [],
   "source": [
    "df_prediction_full"
   ]
  },
  {
   "cell_type": "code",
   "execution_count": null,
   "metadata": {},
   "outputs": [],
   "source": [
    "df.reset_index(inplace=True)"
   ]
  },
  {
   "cell_type": "code",
   "execution_count": null,
   "metadata": {},
   "outputs": [],
   "source": [
    "livers = df_prediction_full[df_prediction_full.index  == 'Liver'][['Project_Identifier', 'Liver']]\n",
    "true_livers = livers[livers['Liver'] > 0].Project_Identifier.tolist()\n",
    "false_livers = livers[livers['Liver'] == 0].Project_Identifier.tolist()\n",
    "\n",
    "true_livers_proteins = []\n",
    "for project in range(len(true_livers)):\n",
    "    true_livers_proteins.append(set(df[['index', true_livers[project]]].dropna()['index'].str.split(';').apply(lambda x: x[0]).tolist()))\n",
    "\n",
    "false_livers_proteins = []\n",
    "for project in range(len(false_livers)):\n",
    "    false_livers_proteins.append(set(df[['index', false_livers[project]]].dropna()['index'].str.split(';').apply(lambda x: x[0]).tolist()))\n",
    "\n",
    "print(true_livers, false_livers)\n",
    "\n",
    "#flatten false_livers_proteins\n",
    "false_livers_proteins = [item for sublist in false_livers_proteins for item in sublist]\n",
    "true_livers_proteins = [item for sublist in true_livers_proteins for item in sublist]\n",
    "\n",
    "false_livers_proteins = set(false_livers_proteins).intersection(MLMarker_features)\n",
    "true_livers_proteins = set(true_livers_proteins).intersection(MLMarker_features)\n",
    "\n",
    "#venndiagram\n",
    "from matplotlib_venn import venn2\n",
    "venn2([set(true_livers_proteins), set(false_livers_proteins)], set_labels=('True', 'False'))\n",
    "plt.title('Proteins in liver samples')\n",
    "plt.show()"
   ]
  },
  {
   "cell_type": "code",
   "execution_count": null,
   "metadata": {},
   "outputs": [],
   "source": [
    "#what are the 83 proteins taht are unique to true liver samples\n",
    "unique_true_livers_proteins = set(true_livers_proteins) - set(false_livers_proteins)\n",
    "unique_false_livers_proteins = set(false_livers_proteins) - set(true_livers_proteins)\n",
    "len(unique_true_livers_proteins), len(unique_false_livers_proteins)"
   ]
  },
  {
   "cell_type": "code",
   "execution_count": null,
   "metadata": {},
   "outputs": [],
   "source": [
    "from bioservices import UniProt\n",
    "u = UniProt()\n",
    "unique_true_livers_proteins = list(unique_true_livers_proteins)\n",
    "chunk_size = 10\n",
    "chunks = [unique_true_livers_proteins[i:i+chunk_size] for i in range(0, len(unique_true_livers_proteins), chunk_size)]\n",
    "\n",
    "prot_info = pd.DataFrame()\n",
    "for chunk in chunks:\n",
    "    chunk_info = u.get_df(list(chunk))\n",
    "    prot_info = pd.concat([prot_info, chunk_info])\n",
    "prot_info = prot_info[prot_info['Entry'].isin(unique_true_livers_proteins)] \n",
    "prot_info\n",
    "\n",
    "liver_count = prot_info['Tissue specificity'].str.contains('liver', case=False).sum()\n",
    "not_annotated  = prot_info['Tissue specificity'].isna().sum()\n",
    "other = len(prot_info) - liver_count - not_annotated\n",
    "liver_count, not_annotated, other\n",
    "\n"
   ]
  },
  {
   "cell_type": "code",
   "execution_count": null,
   "metadata": {},
   "outputs": [],
   "source": [
    "from bioservices import UniProt\n",
    "u = UniProt()\n",
    "unique_false_livers_proteins = list(unique_false_livers_proteins)\n",
    "chunk_size = 10\n",
    "chunks = [unique_false_livers_proteins[i:i+chunk_size] for i in range(0, len(unique_false_livers_proteins), chunk_size)]\n",
    "\n",
    "prot_info_false = pd.DataFrame()\n",
    "for chunk in chunks:\n",
    "    chunk_info = u.get_df(list(chunk))\n",
    "    prot_info_false = pd.concat([prot_info_false, chunk_info])\n",
    "prot_info_false = prot_info_false[prot_info_false['Entry'].isin(unique_false_livers_proteins)] \n",
    "prot_info_false\n",
    "\n",
    "liver_count_false = prot_info['Tissue specificity'].str.contains('liver', case=False).sum()\n",
    "not_annotated  = prot_info['Tissue specificity'].isna().sum()\n",
    "other = len(prot_info) - liver_count_false - not_annotated\n",
    "liver_count_false, not_annotated, other\n"
   ]
  },
  {
   "cell_type": "code",
   "execution_count": null,
   "metadata": {},
   "outputs": [],
   "source": [
    "hpa_liverspecific = ['Q13103', 'P02765', 'P36980', 'P11226', 'P00740', 'Q9BXR6', 'P04217', 'P01008', 'P02652', 'P00734', 'Q14973', 'Q02985', 'P02790', 'P19827', 'P05543', 'Q9Y6L6', 'Q9UJM8', 'P02749', 'P19823', 'Q92496', 'P55056', 'Q96N76', 'P02671', 'O15245', 'P02675', 'P05177', 'P10632', 'Q6Q0C1', 'Q13790', 'P02679', 'P21549', 'P00748', 'P05181', 'P07327', 'P19652', 'Q63ZE4', 'P07357', 'P02748', 'Q03591', 'Q6Q788', 'P05160', 'P02763', 'P04196', 'P55103', 'P11509', 'O00624', 'Q02325', 'Q8N8V2', 'O75452', 'P36537', 'Q9BQQ7', 'P02768', 'Q9UK05', 'P02655', 'P07358', 'P35542', 'P22680', 'Q9UK55', 'Q9NSA1', 'P06133', 'Q06033', 'P27169', 'P08709', 'P58166', 'Q86U17', 'P00738', 'Q96IY4', 'P51857', 'P02741', 'P02743', 'P20853', 'P02760', 'P22310', 'P08519', 'Q7Z5P4', 'P04004', 'Q969I6', 'Q04756', 'O00187', 'P15169', 'O14960', 'P03950', 'P07307', 'P48775', 'O15467', 'Q96PD5', 'P01009', 'P35218', 'P07306', 'Q14032', 'P31513', 'P04070', 'P20813', 'Q14624', 'P49638', 'Q8WYK0', 'P24462', 'P20742', 'P08319', 'P01031', 'P54840', 'Q8IVM8', 'P11150', 'Q9UNU6', 'P03952', 'O43174', 'P10635', 'Q9UGM5', 'O14756', 'P02656', 'Q9Y2P5', 'P18428', 'Q969E1', 'Q00266', 'O60809', 'P20132', 'P17735', 'Q9Y2D1', 'P02750', 'P00751', 'P11712', 'Q15166', 'P0DJI8', 'P0DJI9', 'P07438', 'P02753', 'Q9NPD5', 'P07360', 'P08185', 'P17516', 'A6NKF2', 'P02774', 'Q14994', 'P21439', 'Q9HB55', 'P08697', 'P22792', 'Q8NEV9', 'Q9UP52', 'P28332', 'Q8WWZ8', 'P35503', 'O95342', 'Q9Y5C1', 'P06276', 'P20851', 'P28845', 'P11168', 'P43652', 'Q6UXH0', 'Q14520', 'Q6NUN0', 'P04003', 'P13671', 'Q8IVS8', 'P35858', 'Q4G0N4', 'P00747', 'A0A0G2JMD5', 'Q86YT5', 'P02771', 'O43315', 'Q9UI32', 'Q8IU80', 'P02654', 'P01024', 'Q4G0S7', 'P23141', 'Q9Y694', 'A6NLP5', 'Q6ZNB7', 'Q8NI99', 'Q9P126', 'Q16696', 'Q02127', 'Q9H8M9', 'P22891', 'Q9UBR1', 'Q5TCH4', 'Q7Z4W1', 'P46952', 'P54868', 'P01042', 'Q9NP71', 'Q9NQ94', 'P01019', 'P04424', 'P06681', 'P08603', 'Q9Y6Z7', 'P33261', 'Q9H1X3'', ', 'P01588', 'Q08830', 'P49326', 'O95954', 'A6NH11', 'P00739', 'P08833', 'Q9NPH3', 'Q8N371', 'Q8TDS5', 'Q6T423', 'Q9BWD1', 'P02647', 'Q6NXE6', 'Q02338', 'P09871', 'P05156', 'P31327', 'P19875', 'Q9NUI1', 'P30047', 'P23378', 'P80108', 'O43708', 'P81172', 'P32754', 'Q9H2F3', 'O15503', 'P11586', 'P49914', 'Q8WWR8', 'Q9UJX0', 'Q8NBP7', 'Q9BY49', 'Q9NST1', 'P29622', 'P05546', 'P04278', 'Q9UJS0', 'H3BR10', 'Q06520', 'P40225', 'Q96MV1', 'Q3YBM2', 'Q8N5A5', 'P45954', 'Q99424', 'O95445', 'P05089', 'P00450', 'Q9NYL5', 'P08684', 'Q8N4W6', 'P03951', 'Q15485', 'A2VDF0', 'P38435', 'Q6ZVE7', 'P48357', 'Q9H400', 'Q86UD1', 'Q92786', 'P34096']\n",
    "\n",
    "\n",
    "print(f\"Amount of HPA specific proteins in True: {}, and uniprot_specific proteins {};    Amount of HPA in False: {} and uniprot {}\")\n",
    "set(unique_true_livers_proteins).intersection(set(hpa_liverspecific)), set(unique_false_livers_proteins).intersection(set(hpa_liverspecific))\n"
   ]
  },
  {
   "cell_type": "code",
   "execution_count": null,
   "metadata": {},
   "outputs": [],
   "source": [
    "prot_info"
   ]
  },
  {
   "cell_type": "code",
   "execution_count": null,
   "metadata": {},
   "outputs": [],
   "source": [
    "from bioservices import UniProt\n",
    "u = UniProt()\n",
    "unique_false_livers_proteins = list(unique_false_livers_proteins)\n",
    "chunk_size = 10\n",
    "chunks = [unique_false_livers_proteins[i:i+chunk_size] for i in range(0, len(unique_false_livers_proteins), chunk_size)]\n",
    "\n",
    "prot_info = pd.DataFrame()\n",
    "for chunk in chunks:\n",
    "    chunk_info = u.get_df(list(chunk))\n",
    "    prot_info = pd.concat([prot_info, chunk_info])\n",
    "prot_info = prot_info[prot_info['Entry'].isin(unique_false_livers_proteins)] \n",
    "prot_info\n",
    "\n",
    "liver_count = prot_info['Tissue specificity'].str.contains('liver', case=False).sum()\n",
    "not_annotated  = prot_info['Tissue specificity'].isna().sum()\n",
    "other = len(prot_info) - liver_count - not_annotated\n",
    "liver_count, not_annotated, other\n",
    "\n"
   ]
  },
  {
   "cell_type": "code",
   "execution_count": null,
   "metadata": {},
   "outputs": [],
   "source": [
    "\n",
    "from gprofiler import GProfiler\n",
    "import plotly.graph_objects as go\n",
    "# Initialize g:Profiler\n",
    "gp = GProfiler(return_dataframe=True)\n",
    "\n",
    "# Dictionary to store GO terms and p-values for each tissue\n",
    "go_dict = {}\n",
    "\n",
    "\n",
    "# Perform GO enrichment\n",
    "results = gp.profile(organism='hsapiens', query=unique_true_livers_proteins, sources=['GO:BP', 'GO:MF', 'GO:CC', 'HPA'])\n",
    "results = results[results['p_value']< 0.05]\n",
    "# Store results in the dictionary: {tissue: {GO_term: p-value}}\n",
    "results"
   ]
  },
  {
   "cell_type": "code",
   "execution_count": null,
   "metadata": {},
   "outputs": [],
   "source": [
    "\n",
    "from gprofiler import GProfiler\n",
    "import plotly.graph_objects as go\n",
    "# Initialize g:Profiler\n",
    "gp = GProfiler(return_dataframe=True)\n",
    "\n",
    "# Dictionary to store GO terms and p-values for each tissue\n",
    "go_dict = {}\n",
    "\n",
    "\n",
    "# Perform GO enrichment\n",
    "results = gp.profile(organism='hsapiens', query=false_livers_proteins, sources=['GO:BP', 'GO:MF', 'GO:CC', 'HPA'])\n",
    "results = results[results['p_value']< 0.05]\n",
    "# Store results in the dictionary: {tissue: {GO_term: p-value}}\n",
    "results"
   ]
  },
  {
   "cell_type": "markdown",
   "metadata": {},
   "source": [
    "Central nervous system"
   ]
  },
  {
   "cell_type": "code",
   "execution_count": null,
   "metadata": {},
   "outputs": [],
   "source": [
    "livers = df_prediction_full[df_prediction_full.index  == 'Central Nervous System'][['Project_Identifier', 'Brain']]\n",
    "true_livers = livers[livers['Brain'] > 0].Project_Identifier.tolist()\n",
    "false_livers = livers[livers['Brain'] == 0].Project_Identifier.tolist()\n",
    "\n",
    "true_livers_proteins = []\n",
    "for project in range(len(true_livers)):\n",
    "    true_livers_proteins.append(set(df[['index', true_livers[project]]].dropna()['index'].str.split(';').apply(lambda x: x[0]).tolist()))\n",
    "\n",
    "false_livers_proteins = []\n",
    "for project in range(len(false_livers)):\n",
    "    false_livers_proteins.append(set(df[['index', false_livers[project]]].dropna()['index'].str.split(';').apply(lambda x: x[0]).tolist()))\n",
    "\n",
    "print(true_livers)\n",
    "print(false_livers)\n",
    "\n",
    "#flatten false_livers_proteins\n",
    "false_livers_proteins = [item for sublist in false_livers_proteins for item in sublist]\n",
    "true_livers_proteins = [item for sublist in true_livers_proteins for item in sublist]\n",
    "\n",
    "#venndiagram\n",
    "from matplotlib_venn import venn2\n",
    "venn2([set(true_livers_proteins), set(false_livers_proteins)], set_labels=('True', 'False'))\n",
    "plt.title('Proteins in brain samples')\n",
    "plt.show()"
   ]
  },
  {
   "cell_type": "markdown",
   "metadata": {},
   "source": [
    "## How many not brain cell lines are predicted as brain?"
   ]
  },
  {
   "cell_type": "code",
   "execution_count": null,
   "metadata": {},
   "outputs": [],
   "source": [
    "df_prediction_full"
   ]
  },
  {
   "cell_type": "code",
   "execution_count": null,
   "metadata": {},
   "outputs": [],
   "source": [
    "sns.boxplot(df_prediction_full[df_prediction_full.index=='Lung']['number_of_proteins'])\n"
   ]
  },
  {
   "cell_type": "code",
   "execution_count": null,
   "metadata": {},
   "outputs": [],
   "source": [
    "sns.boxplot(df_prediction_full[df_prediction_full.index!='Lung']['number_of_proteins'], color='red')"
   ]
  },
  {
   "cell_type": "code",
   "execution_count": null,
   "metadata": {},
   "outputs": [],
   "source": [
    "df_prediction_full[df_prediction_full.index=='Lung'].iloc[:,:35].sum(axis=0).sort_values(ascending=False).plot(kind='bar', figsize=(10, 6), color='darkblue', title='Classification of lung cell line samples')\n"
   ]
  },
  {
   "cell_type": "markdown",
   "metadata": {},
   "source": []
  }
 ],
 "metadata": {
  "kernelspec": {
   "display_name": "mlmarker",
   "language": "python",
   "name": "python3"
  },
  "language_info": {
   "codemirror_mode": {
    "name": "ipython",
    "version": 3
   },
   "file_extension": ".py",
   "mimetype": "text/x-python",
   "name": "python",
   "nbconvert_exporter": "python",
   "pygments_lexer": "ipython3",
   "version": "3.9.19"
  }
 },
 "nbformat": 4,
 "nbformat_minor": 2
}
